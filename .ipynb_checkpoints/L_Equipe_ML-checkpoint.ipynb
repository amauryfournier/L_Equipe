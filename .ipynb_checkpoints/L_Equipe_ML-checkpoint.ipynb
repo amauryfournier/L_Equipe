{
 "cells": [
  {
   "cell_type": "code",
   "execution_count": 1,
   "metadata": {
    "collapsed": true
   },
   "outputs": [],
   "source": [
    "import pandas as pd\n",
    "import numpy as np\n",
    "import random\n",
    "from os import listdir\n",
    "from os.path import isfile, join,getsize,isdir\n",
    "import csv\n",
    "import numpy\n",
    "import cPickle as pickle\n",
    "import json\n",
    "from random import shuffle\n",
    "import warnings\n",
    "import time\n",
    "#import msgpack\n",
    "import re\n",
    "import matplotlib.pyplot as plt\n",
    "from datetime import date\n",
    "import math\n",
    "import pylab\n",
    "import pandas_profiling\n",
    "import unicodedata\n",
    "import dateutil.relativedelta\n",
    "#n'affiche pas les warnings\n",
    "warnings.filterwarnings('ignore')\n",
    "#affiche la totalité des colonnes du dataframe\n",
    "pd.set_option('display.max_columns', None)\n",
    "#path = \"C:\\Users\\Data Science 5\\Desktop\\L_equipe\""
   ]
  },
  {
   "cell_type": "markdown",
   "metadata": {},
   "source": [
    "## Apprentissage"
   ]
  },
  {
   "cell_type": "code",
   "execution_count": 2,
   "metadata": {
    "collapsed": true
   },
   "outputs": [],
   "source": [
    "from sklearn.ensemble import RandomForestClassifier\n",
    "from sklearn.ensemble import ExtraTreesClassifier\n",
    "from sklearn.grid_search import GridSearchCV\n",
    "\n",
    "path = \"W:\\L_equipe\\dataframes\\\\\"\n",
    "dftrain = pd.read_pickle(path+\"\\dataframe_ready_to_use.pkl\")\n",
    "#shuffle dataframe\n",
    "dftrain.iloc[np.random.permutation(len(dftrain))]\n",
    "\n",
    "X = dftrain.copy()\n",
    "X.drop(\"abo_juin\", axis=1, inplace=True)\n",
    "Y = dftrain.abo_juin"
   ]
  },
  {
   "cell_type": "markdown",
   "metadata": {},
   "source": [
    "### Grid Search"
   ]
  },
  {
   "cell_type": "code",
   "execution_count": 3,
   "metadata": {
    "collapsed": false
   },
   "outputs": [
    {
     "name": "stdout",
     "output_type": "stream",
     "text": [
      "0.906015037594 {'n_estimators': 5, 'oob_score': False, 'bootstrap': True, 'max_depth': 10, 'min_samples_leaf': 17}\n"
     ]
    }
   ],
   "source": [
    "#tuned_parameters = {\"n_estimators\" : [100],\n",
    "#                  \"max_depth\": [3,10,15,20],\n",
    "#                  #\"random_state\" : [None],\n",
    "#                   #\"min_samples_leaf\": [15, 16, 17],\n",
    "#                  \"bootstrap\": [True, False]}\n",
    "#\n",
    "#model = RandomForestClassifier(n_jobs=-1)\n",
    "\n",
    "tuned_parameters = {\"n_estimators\" : [5],\n",
    "                  \"max_depth\": [10,20],\n",
    "                  #\"random_state\" : [None],\n",
    "                   \"min_samples_leaf\": [15, 16, 17],\n",
    "                    \"oob_score\" : [True, False],\n",
    "                  \"bootstrap\": [True]}\n",
    "\n",
    "model = ExtraTreesClassifier(n_jobs=-1)\n",
    "\n",
    "gs = GridSearchCV(model, tuned_parameters, scoring = 'accuracy', cv=5, n_jobs=-1)\n",
    "gs.fit(X, Y)\n",
    "\n",
    "minavgscore = 10000\n",
    "minparams = 0\n",
    "\n",
    "for params, avgscore, scores in gs.grid_scores_ :\n",
    "    if avgscore < minavgscore :\n",
    "        minavgscore = avgscore\n",
    "        minparams = params\n",
    "\n",
    "print minavgscore, minparams"
   ]
  },
  {
   "cell_type": "code",
   "execution_count": 4,
   "metadata": {
    "collapsed": false
   },
   "outputs": [
    {
     "name": "stdout",
     "output_type": "stream",
     "text": [
      "Wall time: 22 s\n"
     ]
    },
    {
     "data": {
      "text/plain": [
       "ExtraTreesClassifier(bootstrap=True, class_weight=None, criterion='gini',\n",
       "           max_depth=10, max_features='auto', max_leaf_nodes=None,\n",
       "           min_samples_leaf=1, min_samples_split=2,\n",
       "           min_weight_fraction_leaf=0.0, n_estimators=5000, n_jobs=-1,\n",
       "           oob_score=True, random_state=None, verbose=0, warm_start=False)"
      ]
     },
     "execution_count": 4,
     "metadata": {},
     "output_type": "execute_result"
    }
   ],
   "source": [
    "# -- Random Forest\n",
    "#model = RandomForestClassifier(n_estimators=100,n_jobs=-1, max_depth=3, bootstrap=True)\n",
    "\n",
    "# -- ExtraTrees\n",
    "model = ExtraTreesClassifier(n_estimators=5000, max_depth = 10, bootstrap=True, oob_score=True, n_jobs=-1)\n",
    "\n",
    "%time model.fit(X,Y)"
   ]
  },
  {
   "cell_type": "code",
   "execution_count": 5,
   "metadata": {
    "collapsed": false
   },
   "outputs": [
    {
     "data": {
      "text/plain": [
       "<matplotlib.axes._subplots.AxesSubplot at 0x10948e48>"
      ]
     },
     "execution_count": 5,
     "metadata": {},
     "output_type": "execute_result"
    },
    {
     "data": {
      "image/png": "[encoded data removed]",
      "text/plain": [
       "<matplotlib.figure.Figure at 0x109486a0>"
      ]
     },
     "metadata": {},
     "output_type": "display_data"
    }
   ],
   "source": [
    "%matplotlib inline\n",
    "\n",
    "feature_importances_data = []\n",
    "features = X.columns\n",
    "for feature_name, feature_importance in zip(features, model.feature_importances_):\n",
    "    feature_importances_data.append({\n",
    "        'feature': feature_name,\n",
    "        'importance': feature_importance\n",
    "    })\n",
    "\n",
    "# Plot the results\n",
    "pd.DataFrame(feature_importances_data)\\\n",
    "    .set_index('feature')\\\n",
    "    .sort('importance')[-20::]\\\n",
    "    .plot(title='Top 20 most important variables',\n",
    "          kind='barh',\n",
    "          figsize=(10, 10),\n",
    "          color='#348ABD',\n",
    "          alpha=0.6,\n",
    "          lw='1',\n",
    "          edgecolor='#348ABD',\n",
    "          grid=False,)"
   ]
  }
 ],
 "metadata": {
  "kernelspec": {
   "display_name": "Python 2",
   "language": "python",
   "name": "python2"
  },
  "language_info": {
   "codemirror_mode": {
    "name": "ipython",
    "version": 2
   },
   "file_extension": ".py",
   "mimetype": "text/x-python",
   "name": "python",
   "nbconvert_exporter": "python",
   "pygments_lexer": "ipython2",
   "version": "2.7.11"
  }
 },
 "nbformat": 4,
 "nbformat_minor": 0
}
