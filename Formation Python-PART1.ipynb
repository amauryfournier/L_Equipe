{
 "cells": [
  {
   "cell_type": "markdown",
   "metadata": {},
   "source": [
    "# Formation Python  Juin 2016\n",
    "\n",
    "\n",
    "## Amaury Fournier\n",
    "## Velvet Consulting"
   ]
  },
  {
   "cell_type": "markdown",
   "metadata": {},
   "source": [
    "## Généralités du langage"
   ]
  },
  {
   "cell_type": "markdown",
   "metadata": {},
   "source": [
    "### install lib + imports"
   ]
  },
  {
   "cell_type": "code",
   "execution_count": null,
   "metadata": {
    "collapsed": false
   },
   "outputs": [],
   "source": [
    "#install ou upgrade\n",
    "! pip install plotly --upgrade"
   ]
  },
  {
   "cell_type": "code",
   "execution_count": null,
   "metadata": {
    "collapsed": false
   },
   "outputs": [],
   "source": [
    "import numpy as np\n",
    "import pandas as pd\n",
    "import math\n",
    "import datetime\n",
    "\n",
    "from os import listdir\n",
    "from os.path import isfile, join,getsize,isdir\n",
    "import time\n",
    "\n",
    "#pandas\n",
    "import pandas as pd\n",
    "#pd.set_option('display.max_columns', None)\n",
    "\n",
    "#plotly\n",
    "from plotly.offline import download_plotlyjs, init_notebook_mode, iplot\n",
    "from plotly.graph_objs import *\n",
    "init_notebook_mode()\n",
    "\n",
    "#matplotlib\n",
    "import matplotlib.pyplot as plt\n",
    "%matplotlib inline\n"
   ]
  },
  {
   "cell_type": "code",
   "execution_count": null,
   "metadata": {
    "collapsed": false
   },
   "outputs": [],
   "source": [
    "#la fonction help qui peut vous renseigner si vous cherchez une information \n",
    "#typiquement je cherche la liste des mots réservés (keywords) en python grâce à la fonction help\n",
    "help()"
   ]
  },
  {
   "cell_type": "code",
   "execution_count": null,
   "metadata": {
    "collapsed": false
   },
   "outputs": [],
   "source": [
    "#opération mathématiques (parce que python peut aussi vous servir de calculatrice !)\n",
    "1+1"
   ]
  },
  {
   "cell_type": "code",
   "execution_count": null,
   "metadata": {
    "collapsed": false,
    "scrolled": true
   },
   "outputs": [],
   "source": [
    "print 1+4\n",
    "print 1 - 4      #les espaces sont optionnels\n",
    "print 5+6*3      #comment python gère t'il les opérateurs mathématiques\n",
    "print (5+6)*3\n",
    "print 7/2        #Attention !"
   ]
  },
  {
   "cell_type": "code",
   "execution_count": null,
   "metadata": {
    "collapsed": false
   },
   "outputs": [],
   "source": [
    "print 7/2.0     #présence d'un flottant\n",
    "print 7//2.0    #division entière\n",
    "print 7%2.      #reste\n",
    "print 5e-3\n",
    "print 5*10**3"
   ]
  },
  {
   "cell_type": "code",
   "execution_count": null,
   "metadata": {
    "collapsed": false
   },
   "outputs": [],
   "source": [
    "a = 5\n"
   ]
  },
  {
   "cell_type": "code",
   "execution_count": null,
   "metadata": {
    "collapsed": false
   },
   "outputs": [],
   "source": [
    "pygmentize -f -o formation.rtf Formation Python.py"
   ]
  },
  {
   "cell_type": "code",
   "execution_count": null,
   "metadata": {
    "collapsed": false
   },
   "outputs": [],
   "source": [
    "\"\"\"salut ceci est un docstring\"\"\""
   ]
  },
  {
   "cell_type": "code",
   "execution_count": null,
   "metadata": {
    "collapsed": false
   },
   "outputs": [],
   "source": [
    "hauteur = 15\n",
    "largeur = 26\n",
    "aire = hauteur * largeur\n",
    "aire"
   ]
  },
  {
   "cell_type": "code",
   "execution_count": null,
   "metadata": {
    "collapsed": false
   },
   "outputs": [],
   "source": [
    "haut  #toujours définir ses variables avant de les appeler"
   ]
  },
  {
   "cell_type": "code",
   "execution_count": null,
   "metadata": {
    "collapsed": false
   },
   "outputs": [],
   "source": [
    "\"Hello, World !\""
   ]
  },
  {
   "cell_type": "code",
   "execution_count": null,
   "metadata": {
    "collapsed": false
   },
   "outputs": [],
   "source": [
    "'Hello, world !'"
   ]
  },
  {
   "cell_type": "code",
   "execution_count": null,
   "metadata": {
    "collapsed": false
   },
   "outputs": [],
   "source": [
    "hello = 'Hello world'\n",
    "hello"
   ]
  },
  {
   "cell_type": "code",
   "execution_count": null,
   "metadata": {
    "collapsed": false
   },
   "outputs": [],
   "source": [
    "hello[0]"
   ]
  },
  {
   "cell_type": "code",
   "execution_count": null,
   "metadata": {
    "collapsed": false
   },
   "outputs": [],
   "source": [
    "bonjour = \"Hello\" + ',' + \"World !\"\n",
    "bonjour"
   ]
  },
  {
   "cell_type": "code",
   "execution_count": null,
   "metadata": {
    "collapsed": true
   },
   "outputs": [],
   "source": [
    "bonjour = \"\""
   ]
  },
  {
   "cell_type": "code",
   "execution_count": null,
   "metadata": {
    "collapsed": false
   },
   "outputs": [],
   "source": [
    "bonjour"
   ]
  },
  {
   "cell_type": "code",
   "execution_count": null,
   "metadata": {
    "collapsed": false
   },
   "outputs": [],
   "source": [
    "#solution \n",
    "a = input(\"Valeur de a :\")\n",
    "b = input(\"Valeur de b :\")\n",
    "c = (a**2 - b**(1/2.))\n",
    "print \"a² - √b : \",c \n",
    "print 'type :',type(c)"
   ]
  },
  {
   "cell_type": "code",
   "execution_count": null,
   "metadata": {
    "collapsed": false
   },
   "outputs": [],
   "source": [
    "a = 3\n",
    "a +=1\n",
    "b,c = 5,7\n",
    "print 'a :',a,'\\nb :',b,'\\nc :',c"
   ]
  },
  {
   "cell_type": "code",
   "execution_count": null,
   "metadata": {
    "collapsed": false
   },
   "outputs": [],
   "source": [
    "a = 1\n",
    "print \"a vaut \", a ,'salut',b\n"
   ]
  },
  {
   "cell_type": "code",
   "execution_count": null,
   "metadata": {
    "collapsed": false
   },
   "outputs": [],
   "source": [
    "ma_liste = []   #initialisation d'une liste vide\n",
    "nb_premiers = [2,3,5,7,11]  #liste de 5 élements int\n",
    "l_mixte = [\"hello\",1, [3],(3,2)]\n",
    "\n",
    "print \"ma liste\", ma_liste,type(ma_liste)\n",
    "print \"nb_premiers\", nb_premiers ,type(nb_premiers)\n",
    "print \"l_mixte\", l_mixte ,type(l_mixte), '\\n'\n",
    "\n",
    "for i in l_mixte :\n",
    "    print i, type(i)\n"
   ]
  },
  {
   "cell_type": "code",
   "execution_count": null,
   "metadata": {
    "collapsed": false,
    "scrolled": true
   },
   "outputs": [],
   "source": [
    "print nb_premiers, \", liste de taille :\", len(l_mixte)"
   ]
  },
  {
   "cell_type": "code",
   "execution_count": null,
   "metadata": {
    "collapsed": false
   },
   "outputs": [],
   "source": [
    "print nb_premiers"
   ]
  },
  {
   "cell_type": "code",
   "execution_count": null,
   "metadata": {
    "collapsed": false
   },
   "outputs": [],
   "source": [
    "nb_premiers = [2, 3, 5, 7, 11, 13, 17, 19, 23, 29, 31, 37, 41, 43, 47, 53, 59, 61, 67, 71, 73, 79, 83, 89]\n",
    "start = 2  #inclus\n",
    "stop = 15  #exclu\n",
    "pas = 2\n",
    "print nb_premiers\n",
    "print 'start', nb_premiers[start]\n",
    "print 'stop', nb_premiers[stop]\n",
    "print nb_premiers[start:stop]\n",
    "print nb_premiers[start:stop:pas]"
   ]
  },
  {
   "cell_type": "code",
   "execution_count": null,
   "metadata": {
    "collapsed": false
   },
   "outputs": [],
   "source": [
    "nb_premiers[-1:4:-1]"
   ]
  },
  {
   "cell_type": "code",
   "execution_count": null,
   "metadata": {
    "collapsed": false
   },
   "outputs": [],
   "source": [
    "nb_premiers[15:]"
   ]
  },
  {
   "cell_type": "code",
   "execution_count": null,
   "metadata": {
    "collapsed": false
   },
   "outputs": [],
   "source": [
    "nb_premiers[:10], len(nb_premiers[:10])"
   ]
  },
  {
   "cell_type": "code",
   "execution_count": null,
   "metadata": {
    "collapsed": false
   },
   "outputs": [],
   "source": [
    "#entier positif de zéro à 10\n",
    "#phrase j'aime les pommes\n",
    "#concaténnez chacun des elements de la phrase à la liste\n",
    "#affichez le douzième élément de la liste\n",
    "#retirez le dernier élément de la liste\n",
    "#insérez l'élément 17 en deuxième position\n",
    "#affichez\n",
    "#triez et afficher à nouveau\n",
    "#afficher l'avant dernier élément\n",
    "#pour finir afficher la liste des éléments du dernier au premier (inclus) avec un pas de 3\n",
    "\n",
    "l = range(11)\n",
    "phrase = \"j'aime les pommes\"\n",
    "l.extend(phrase)\n",
    "print l[11]\n",
    "l.pop()\n",
    "l.insert(1,17)\n",
    "print l\n",
    "l.sort()\n",
    "print l\n",
    "print l[-2]\n",
    "print(l[::-3])"
   ]
  },
  {
   "cell_type": "code",
   "execution_count": null,
   "metadata": {
    "collapsed": false
   },
   "outputs": [],
   "source": [
    "a = l.index(17)\n",
    "b = l.index('m')\n",
    "l[a], l[b] = l[b], l[a]\n",
    "l"
   ]
  },
  {
   "cell_type": "code",
   "execution_count": null,
   "metadata": {
    "collapsed": false
   },
   "outputs": [],
   "source": [
    "print list(enumerate(l))"
   ]
  },
  {
   "cell_type": "code",
   "execution_count": null,
   "metadata": {
    "collapsed": false
   },
   "outputs": [],
   "source": [
    "a=3\n",
    "if a > 0 :\n",
    "    print (\"a est strictement supérieur à 0\")"
   ]
  },
  {
   "cell_type": "code",
   "execution_count": null,
   "metadata": {
    "collapsed": false
   },
   "outputs": [],
   "source": [
    "b=5\n",
    "c = 0\n",
    "if a < b and c== 0:\n",
    "    print \"a est strictement inférieur à b\"\n",
    "\n",
    "elif a > b:\n",
    "    print \"b est strictement inférieur à a\"\n",
    "else:\n",
    "    print \"b est égal à a\""
   ]
  },
  {
   "cell_type": "code",
   "execution_count": null,
   "metadata": {
    "collapsed": false
   },
   "outputs": [],
   "source": [
    "a=3\n",
    "b=5\n",
    "condition1 = a < b\n",
    "condition2 = a > b\n",
    "condition3 = a < 10\n",
    "condition4 = a > 10\n",
    "\n",
    "if condition1 and condition3 :\n",
    "    print \"a est strictement inférieur à b et a est inférieur à 10 \"\n",
    "if condition2  or condition4 :\n",
    "    print \"b est strictement inférieur à ou a est supérieur à 10\"\n"
   ]
  },
  {
   "cell_type": "code",
   "execution_count": null,
   "metadata": {
    "collapsed": false
   },
   "outputs": [],
   "source": [
    "annee = input(\"annee : \")\n",
    "if (not annee%4 and annee%100) or not annee%400 :\n",
    "    print \"l'année\",annee,\"est bissextile\"\n",
    "else :\n",
    "    print \"l'année\",annee,\"n'est pas bissextile\""
   ]
  },
  {
   "cell_type": "code",
   "execution_count": null,
   "metadata": {
    "collapsed": false
   },
   "outputs": [],
   "source": [
    "annee_bis=[]\n",
    "liste_annee = ...\n",
    "for i in liste_annee:\n",
    "    if ... :\n",
    "        ...\n",
    "annee_bis"
   ]
  },
  {
   "cell_type": "code",
   "execution_count": null,
   "metadata": {
    "collapsed": false
   },
   "outputs": [],
   "source": [
    "\"Hello\"+\"World\"+str(2)\n"
   ]
  },
  {
   "cell_type": "code",
   "execution_count": null,
   "metadata": {
    "collapsed": false
   },
   "outputs": [],
   "source": [
    "for i in range(4,11) :\n",
    "    if not i%5 and i>0:\n",
    "        print \"condition respectée, i =\",i\n",
    "        continue\n",
    "    print i"
   ]
  },
  {
   "cell_type": "code",
   "execution_count": null,
   "metadata": {
    "collapsed": false
   },
   "outputs": [],
   "source": [
    "ma_liste = range(-1,9,2) \n",
    "ma_liste"
   ]
  },
  {
   "cell_type": "code",
   "execution_count": null,
   "metadata": {
    "collapsed": false
   },
   "outputs": [],
   "source": [
    "l_mixte = [\"hello\",1, [3],(3,2)]\n",
    "l_mixte"
   ]
  },
  {
   "cell_type": "code",
   "execution_count": null,
   "metadata": {
    "collapsed": false
   },
   "outputs": [],
   "source": [
    "liste_ij = []\n",
    "for i in range(11):\n",
    "    for j in range(i):\n",
    "        liste_ij.append((i,j))       \n",
    "liste_ij"
   ]
  },
  {
   "cell_type": "code",
   "execution_count": null,
   "metadata": {
    "collapsed": false
   },
   "outputs": [],
   "source": [
    "for i in range(1,200):\n",
    "    chaine =''\n",
    "    if not i%3 :\n",
    "        chaine+=\"Fizz\"\n",
    "    if not i%5 : \n",
    "        chaine+=\"Buzz\"\n",
    "    if i%5 and i%3 :\n",
    "        chaine = str(i)\n",
    "    print chaine"
   ]
  },
  {
   "cell_type": "code",
   "execution_count": null,
   "metadata": {
    "collapsed": false
   },
   "outputs": [],
   "source": [
    "def affichage() :\n",
    "    print \"Hello, World !\""
   ]
  },
  {
   "cell_type": "code",
   "execution_count": null,
   "metadata": {
    "collapsed": false
   },
   "outputs": [],
   "source": [
    "affichage()"
   ]
  },
  {
   "cell_type": "code",
   "execution_count": null,
   "metadata": {
    "collapsed": false
   },
   "outputs": [],
   "source": [
    "def factorielle(n=6):\n",
    "    p=1\n",
    "    for i in range (1,n+1):\n",
    "        p*=i\n",
    "    return p\n",
    "\n",
    "factorielle()"
   ]
  },
  {
   "cell_type": "code",
   "execution_count": null,
   "metadata": {
    "collapsed": false
   },
   "outputs": [],
   "source": [
    "def triangle(n):\n",
    "    tri = \"\"\n",
    "    for i in range(n):\n",
    "        tri += \"*\"\n",
    "        print tri\n",
    "\n",
    "triangle(10)"
   ]
  },
  {
   "cell_type": "code",
   "execution_count": null,
   "metadata": {
    "collapsed": false
   },
   "outputs": [],
   "source": [
    "liste_random = np.random.randint(0, high=10, size=20).tolist()\n",
    "liste_finale = []\n",
    "for i in liste_random :\n",
    "    if i > 3 :\n",
    "        liste_finale.append(i)\n",
    "print 'liste random',liste_random\n",
    "print 'liste finale',liste_finale"
   ]
  },
  {
   "cell_type": "code",
   "execution_count": null,
   "metadata": {
    "collapsed": false
   },
   "outputs": [],
   "source": [
    "liste_finale2 = [x for x in liste_random if x>3]\n",
    "liste_finale2"
   ]
  },
  {
   "cell_type": "markdown",
   "metadata": {},
   "source": [
    "### Quicksort"
   ]
  },
  {
   "cell_type": "code",
   "execution_count": null,
   "metadata": {
    "collapsed": false
   },
   "outputs": [],
   "source": [
    "import numpy as np\n",
    "\n",
    "def quicksort(l) :\n",
    "    if len(l) <=1 :\n",
    "        return l\n",
    "    else :\n",
    "        pivot = l[-1]\n",
    "        l.pop()\n",
    "        lg=[]\n",
    "        ll=[]\n",
    "        for i in l :\n",
    "            if i <= pivot :\n",
    "                ll.append(i)\n",
    "            else :\n",
    "                lg.append(i)\n",
    "    return quicksort(ll)+[pivot]+quicksort(lg)\n",
    "\n",
    "liste_random = np.random.randint(0, high=100, size=20).tolist()\n",
    "liste_triee = quicksort(liste_random)\n",
    "print \"liste random :\",liste_random\n",
    "print \"\\nliste triée :\",liste_triee   "
   ]
  },
  {
   "cell_type": "markdown",
   "metadata": {},
   "source": [
    "### paramètres fonctions"
   ]
  },
  {
   "cell_type": "code",
   "execution_count": null,
   "metadata": {
    "collapsed": false
   },
   "outputs": [],
   "source": [
    "def creer_fiche(nom,prenom, *reste):\n",
    "    chaine = \"nom : \"+nom+\"\\nprenom : \" + prenom\n",
    "    if reste :\n",
    "        chaine +=\"\\ninformations complementaires : \"\n",
    "    for i in reste :\n",
    "        chaine+=i+\" \" \n",
    "    return chaine\n",
    "\n",
    "informations = creer_fiche(\"Dupond\", \"Paul\")\n",
    "print informations +\"\\n\"\n",
    "informations2 = creer_fiche(\"Dupond\", \"Paul\",'10 rue des lilas','75001', \"Paris\")\n",
    "print informations2"
   ]
  },
  {
   "cell_type": "code",
   "execution_count": null,
   "metadata": {
    "collapsed": false
   },
   "outputs": [],
   "source": [
    "adresse = [\"10 rue des lilas\", \"75001\", \"Paris\"]\n",
    "informations = creer_fiche(\"Dupond\", \"Paul\", *adresse)\n",
    "print informations"
   ]
  },
  {
   "cell_type": "code",
   "execution_count": null,
   "metadata": {
    "collapsed": false
   },
   "outputs": [],
   "source": [
    "tuple_vide = ()\n",
    "print tuple_vide, type(tuple_vide)\n",
    "tuple_un_element = (2,)  #attention la virgule est obligatoire pour un unique element\n",
    "print tuple_un_element\n",
    "tuple_mutliples_elements = (1,2,3)\n",
    "print tuple_mutliples_elements"
   ]
  }
 ],
 "metadata": {
  "kernelspec": {
   "display_name": "Python 2",
   "language": "python",
   "name": "python2"
  },
  "language_info": {
   "codemirror_mode": {
    "name": "ipython",
    "version": 2
   },
   "file_extension": ".py",
   "mimetype": "text/x-python",
   "name": "python",
   "nbconvert_exporter": "python",
   "pygments_lexer": "ipython2",
   "version": "2.7.11"
  }
 },
 "nbformat": 4,
 "nbformat_minor": 0
}
