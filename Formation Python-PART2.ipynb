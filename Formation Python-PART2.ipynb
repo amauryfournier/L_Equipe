{
 "cells": [
  {
   "cell_type": "markdown",
   "metadata": {},
   "source": [
    "### dictionnaires"
   ]
  },
  {
   "cell_type": "code",
   "execution_count": null,
   "metadata": {
    "collapsed": false
   },
   "outputs": [],
   "source": [
    "dico_vide = {}\n",
    "print dico_vide , type(dico_vide)"
   ]
  },
  {
   "cell_type": "code",
   "execution_count": null,
   "metadata": {
    "collapsed": false
   },
   "outputs": [],
   "source": [
    "carnet_contact ={\"nom1\" : \"Dupond\", \"prenom1\":\"Paul\", \"nom2\":\"Dubois\", \"prenom2\" : \"Charles\"}\n",
    "print carnet_contact\n",
    "#del carnet_contact[\"nom2\"]\n",
    "#del carnet_contact[\"prenom2\"]\n",
    "carnet_contact"
   ]
  },
  {
   "cell_type": "code",
   "execution_count": null,
   "metadata": {
    "collapsed": false
   },
   "outputs": [],
   "source": [
    "carnet_contact[\"nom3\"] =  \"Martin\"\n",
    "carnet_contact[\"prenom3\"] = \"Pierre\"\n",
    "carnet_contact"
   ]
  },
  {
   "cell_type": "code",
   "execution_count": null,
   "metadata": {
    "collapsed": false
   },
   "outputs": [],
   "source": [
    "print carnet_contact\n",
    "for i,j in carnet_contact.items():\n",
    "    print i,j"
   ]
  },
  {
   "cell_type": "code",
   "execution_count": null,
   "metadata": {
    "collapsed": false
   },
   "outputs": [],
   "source": [
    "dico = {\"un\" : 1, \"deux\":2, \"trois\": 3}\n",
    "dico.viewitems()"
   ]
  },
  {
   "cell_type": "markdown",
   "metadata": {},
   "source": [
    "### copies de variable en python !!!"
   ]
  },
  {
   "cell_type": "code",
   "execution_count": null,
   "metadata": {
    "collapsed": false
   },
   "outputs": [],
   "source": [
    "liste1 = [0,1,2]\n",
    "liste2 = liste1\n",
    "print liste2\n",
    "liste1.append(3)\n",
    "print liste2"
   ]
  },
  {
   "cell_type": "code",
   "execution_count": null,
   "metadata": {
    "collapsed": false
   },
   "outputs": [],
   "source": [
    "liste1 = [0,1,2]\n",
    "liste2 = list(liste1) #technique 1\n",
    "liste3 = liste1[:]    #technique 2"
   ]
  },
  {
   "cell_type": "code",
   "execution_count": null,
   "metadata": {
    "collapsed": false
   },
   "outputs": [],
   "source": [
    "dico_note = {\"lloyd\":lloyd, \"alice\":alice, 'tyler': tyler}"
   ]
  },
  {
   "cell_type": "code",
   "execution_count": null,
   "metadata": {
    "collapsed": false
   },
   "outputs": [],
   "source": [
    "bob = {\n",
    "  \"nom\": \"Bob\",\n",
    "  \"devoir\": [90.0,97.0,75.0,92.0],\n",
    "  \"qcm\": [88.0,40.0,94.0],\n",
    "  \"exam\": [75.0,90.0]\n",
    "}\n",
    "alice = {\n",
    "  \"prenom\": \"Alice\",\n",
    "  \"devoirs\": [100.0, 92.0, 98.0, 100.0],\n",
    "  \"qcm\": [82.0, 83.0, 91.0],\n",
    "  \"exam\": [89.0, 97.0]\n",
    "}\n",
    "carol = {\n",
    "  \"prenom\": \"Carol\",\n",
    "  \"devoir\": [0.0, 87.0, 75.0, 22.0],\n",
    "  \"qcm\": [0.0, 75.0, 78.0],\n",
    "  \"exam\": [100.0, 100.0]\n",
    "}\n",
    "\n",
    "dico_note = {\"bob\" :bob, \"alice\":alice, 'carol' : carol}\n",
    "\n",
    "#moyenne des 3\n",
    "for i, j in dico_note.items() :\n",
    "    for j in dico_note[i].keys():\n",
    "        if type(dico_note[i][j]) is list :\n",
    "            dico_note[i]['moyenne_'+j] = np.mean(dico_note[i][j])\n",
    "            \n",
    "for i in dico_note.keys() :\n",
    "    dico_note[i]['moyenne_generale'] = 0\n",
    "    for j in dico_note[i].keys() :\n",
    "        if j.startswith('moy') and j != \"moyenne_generale\" :\n",
    "            dico_note[i]['moyenne_generale'] += dico_note[i][j]\n",
    "    dico_note[i]['moyenne_generale'] = float(\"{0:.1f}\".format(dico_note[i][\"moyenne_generale\"]/3))\n",
    "for i in dico_note.keys() :\n",
    "    print i, dico_note[i][\"moyenne_generale\"]"
   ]
  },
  {
   "cell_type": "code",
   "execution_count": null,
   "metadata": {
    "collapsed": false
   },
   "outputs": [],
   "source": [
    "l=range(10)\n",
    "l"
   ]
  },
  {
   "cell_type": "code",
   "execution_count": null,
   "metadata": {
    "collapsed": false
   },
   "outputs": [],
   "source": [
    "for i,item in enumerate(l):\n",
    "    print i,item"
   ]
  },
  {
   "cell_type": "code",
   "execution_count": null,
   "metadata": {
    "collapsed": false
   },
   "outputs": [],
   "source": [
    "a = 3\n",
    "def mafonction(a):\n",
    "    b=2\n",
    "    a += b\n",
    "    print \"a:\",a,\"b:\",b\n",
    "    \n",
    "mafonction(a)\n",
    "print \"a:\",a,\"b:\", b"
   ]
  },
  {
   "cell_type": "code",
   "execution_count": null,
   "metadata": {
    "collapsed": true
   },
   "outputs": [],
   "source": [
    "import math"
   ]
  },
  {
   "cell_type": "code",
   "execution_count": null,
   "metadata": {
    "collapsed": true
   },
   "outputs": [],
   "source": [
    "import math as m"
   ]
  },
  {
   "cell_type": "code",
   "execution_count": null,
   "metadata": {
    "collapsed": false
   },
   "outputs": [],
   "source": [
    "print math.cos(-2*math.pi)\n",
    "print m.cos(2*math.pi)"
   ]
  },
  {
   "cell_type": "code",
   "execution_count": null,
   "metadata": {
    "collapsed": false
   },
   "outputs": [],
   "source": [
    "print dir(math)"
   ]
  },
  {
   "cell_type": "markdown",
   "metadata": {},
   "source": [
    "### Compréhension de listes"
   ]
  },
  {
   "cell_type": "code",
   "execution_count": null,
   "metadata": {
    "collapsed": false
   },
   "outputs": [],
   "source": [
    "l = [1, 0, None, [], True]\n",
    "l = [a for a in l if a ]\n",
    "l"
   ]
  },
  {
   "cell_type": "code",
   "execution_count": null,
   "metadata": {
    "collapsed": false
   },
   "outputs": [],
   "source": [
    "l =[a**2 for a in range(10) if a%2 == 0]\n",
    "l"
   ]
  },
  {
   "cell_type": "code",
   "execution_count": null,
   "metadata": {
    "collapsed": false,
    "slideshow": {
     "slide_type": "-"
    }
   },
   "outputs": [],
   "source": [
    "l=[]\n",
    "for i in range(10) :\n",
    "    a = i**2\n",
    "    l.append(a)\n",
    "l"
   ]
  },
  {
   "cell_type": "code",
   "execution_count": null,
   "metadata": {
    "collapsed": false
   },
   "outputs": [],
   "source": [
    "matrix = [[1, 2, 3], [4, 5, 6], [7, 8, 9]]\n",
    "[[el - 1 for el in row] for row in matrix]"
   ]
  },
  {
   "cell_type": "markdown",
   "metadata": {},
   "source": [
    "### Les exceptions"
   ]
  },
  {
   "cell_type": "code",
   "execution_count": null,
   "metadata": {
    "collapsed": false
   },
   "outputs": [],
   "source": [
    "def fonction_avec_exception(param):\n",
    "    if param not in (1, 2, 3):\n",
    "        raise ValueError(\"param ne peut etre egal qu'a 1, 2 ou 3\")\n",
    "    else :\n",
    "        print param\n",
    "fonction_avec_exception(4)"
   ]
  },
  {
   "cell_type": "code",
   "execution_count": null,
   "metadata": {
    "collapsed": false
   },
   "outputs": [],
   "source": [
    "i=\"c\"\n",
    "l = [\"a\",\"b\",\"c\"]\n",
    "try:\n",
    "    resultat = l[i]\n",
    "except IndexError :\n",
    "    print \"i est trop grand !\"\n",
    "    resultat = None\n",
    "except NameError :\n",
    "    print \"o n'est pas définit\"\n",
    "    resultat = None\n",
    "except TypeError :\n",
    "    print \"i doit être un entier\"\n",
    "    resultat = None"
   ]
  },
  {
   "cell_type": "code",
   "execution_count": null,
   "metadata": {
    "collapsed": false,
    "scrolled": true
   },
   "outputs": [],
   "source": [
    "\n",
    "personnages = ['iron', 'super', 'bat', 'clepto']\n",
    "try:\n",
    "    resultat = personnages[i]\n",
    "# i est plus grand que la taille du tableau\n",
    "except:\n",
    "    print \"unexpected indent\"\n",
    "    resultat = None\n",
    "        "
   ]
  },
  {
   "cell_type": "code",
   "execution_count": null,
   "metadata": {
    "collapsed": false
   },
   "outputs": [],
   "source": [
    "try:\n",
    "    numerateur = float(input(\"numerateur : \"))\n",
    "    denominateur = float(input(\"denominateur : \"))\n",
    "    division = numerateur*1.0/denominateur\n",
    "    arrondi = round(division,2)\n",
    "    print division\n",
    "    print arrondi\n",
    "except (ValueError, NameError, SyntaxError) :\n",
    "    print 'le numérateur et le dénominateur doivent être des flottants'\n",
    "except ZeroDivisionError :\n",
    "    print 'le dénominateur ne doit pas être nul'"
   ]
  },
  {
   "cell_type": "markdown",
   "metadata": {},
   "source": [
    "### Array"
   ]
  },
  {
   "cell_type": "code",
   "execution_count": null,
   "metadata": {
    "collapsed": false
   },
   "outputs": [],
   "source": [
    "data= np.random.randn(1000)\n",
    "cut = pd.qcut(data,4)\n",
    "cut"
   ]
  },
  {
   "cell_type": "code",
   "execution_count": null,
   "metadata": {
    "collapsed": false
   },
   "outputs": [],
   "source": [
    "help(id)"
   ]
  },
  {
   "cell_type": "code",
   "execution_count": null,
   "metadata": {
    "collapsed": false
   },
   "outputs": [],
   "source": [
    "y=np.array([[ 0.,  0.,  0.,  0.,  0.,  0.,  0.,  0.],\n",
    "       [ 0.,  0.,  0.,  0.,  0.,  0.,  0.,  0.],\n",
    "       [ 0.,  0.,  0.,  0.,  0.,  0.,  0.,  0.]])\n",
    "y.shape"
   ]
  },
  {
   "cell_type": "code",
   "execution_count": null,
   "metadata": {
    "collapsed": false
   },
   "outputs": [],
   "source": [
    "np.insert(a, 1,8)"
   ]
  },
  {
   "cell_type": "code",
   "execution_count": null,
   "metadata": {
    "collapsed": false
   },
   "outputs": [],
   "source": [
    "np.add(a,[5,6,7])"
   ]
  },
  {
   "cell_type": "code",
   "execution_count": null,
   "metadata": {
    "collapsed": false
   },
   "outputs": [],
   "source": [
    "a = np.array([[1,2],[3,4]])\n",
    "b = np.array([1,2,3])\n",
    "c = b = np.array([[1],[2],[3]])\n",
    "print a.shape, b.shape, c.shape\n",
    "print a\n",
    "print b\n",
    "print c\n",
    "a.reshape(1,1,4)"
   ]
  },
  {
   "cell_type": "code",
   "execution_count": null,
   "metadata": {
    "collapsed": false
   },
   "outputs": [],
   "source": [
    "b = np.arange(9)\n",
    "b.reshape(3,3)"
   ]
  },
  {
   "cell_type": "markdown",
   "metadata": {},
   "source": [
    "### Fichiers lecture/ecriture"
   ]
  },
  {
   "cell_type": "code",
   "execution_count": null,
   "metadata": {
    "collapsed": false
   },
   "outputs": [],
   "source": [
    "myfile = open(\"test.txt\", 'w')"
   ]
  }
 ],
 "metadata": {
  "kernelspec": {
   "display_name": "Python 2",
   "language": "python",
   "name": "python2"
  },
  "language_info": {
   "codemirror_mode": {
    "name": "ipython",
    "version": 2
   },
   "file_extension": ".py",
   "mimetype": "text/x-python",
   "name": "python",
   "nbconvert_exporter": "python",
   "pygments_lexer": "ipython2",
   "version": "2.7.11"
  }
 },
 "nbformat": 4,
 "nbformat_minor": 0
}
