{
 "cells": [
  {
   "cell_type": "markdown",
   "metadata": {},
   "source": [
    "# Formation Python  Juin 2016\n",
    "\n",
    "\n",
    "## Amaury Fournier\n",
    "## Velvet Consulting"
   ]
  },
  {
   "cell_type": "markdown",
   "metadata": {},
   "source": [
    "## Généralités du langage"
   ]
  },
  {
   "cell_type": "code",
   "execution_count": 2,
   "metadata": {
    "collapsed": false
   },
   "outputs": [],
   "source": [
    "import numpy as np\n",
    "import pandas as pd\n",
    "import math"
   ]
  },
  {
   "cell_type": "code",
   "execution_count": null,
   "metadata": {
    "collapsed": true
   },
   "outputs": [],
   "source": [
    "#la fonction help qui peut vous renseigner si vous cherchez une information \n",
    "#typiquement je cherche la liste des mots réservés (keywords) en python grâce à la fonction help\n",
    "help()"
   ]
  },
  {
   "cell_type": "code",
   "execution_count": null,
   "metadata": {
    "collapsed": false
   },
   "outputs": [],
   "source": [
    "#opération mathématiques (parce que python peut aussi vous servir de calculatrice !)\n",
    "1+1"
   ]
  },
  {
   "cell_type": "code",
   "execution_count": 3,
   "metadata": {
    "collapsed": false,
    "scrolled": true
   },
   "outputs": [
    {
     "name": "stdout",
     "output_type": "stream",
     "text": [
      "5\n",
      "-3\n",
      "23\n",
      "33\n",
      "3\n"
     ]
    }
   ],
   "source": [
    "print 1+4\n",
    "print 1 - 4      #les espaces sont optionnels\n",
    "print 5+6*3      #comment python gère t'il les opérateurs mathématiques\n",
    "print (5+6)*3\n",
    "print 7/2        #Attention !"
   ]
  },
  {
   "cell_type": "code",
   "execution_count": null,
   "metadata": {
    "collapsed": false
   },
   "outputs": [],
   "source": [
    "print 7/2.0     #présence d'un flottant\n",
    "print 7//2.0    #division entière\n",
    "print 7%2.      #reste\n",
    "print 5e-3\n",
    "print 5*10**3"
   ]
  },
  {
   "cell_type": "code",
   "execution_count": null,
   "metadata": {
    "collapsed": false
   },
   "outputs": [],
   "source": [
    "a = 5\n"
   ]
  },
  {
   "cell_type": "code",
   "execution_count": null,
   "metadata": {
    "collapsed": false
   },
   "outputs": [],
   "source": [
    "pygmentize -f -o formation.rtf Formation Python.py"
   ]
  },
  {
   "cell_type": "code",
   "execution_count": null,
   "metadata": {
    "collapsed": false
   },
   "outputs": [],
   "source": [
    "\"\"\"salut ceci est un docstring\"\"\""
   ]
  },
  {
   "cell_type": "code",
   "execution_count": null,
   "metadata": {
    "collapsed": false
   },
   "outputs": [],
   "source": [
    "hauteur = 15\n",
    "largeur = 26\n",
    "aire = hauteur * largeur\n",
    "aire"
   ]
  },
  {
   "cell_type": "code",
   "execution_count": null,
   "metadata": {
    "collapsed": false
   },
   "outputs": [],
   "source": [
    "haut  #toujours définir ses variables avant de les appeler"
   ]
  },
  {
   "cell_type": "code",
   "execution_count": null,
   "metadata": {
    "collapsed": false
   },
   "outputs": [],
   "source": [
    "\"Hello, World !\""
   ]
  },
  {
   "cell_type": "code",
   "execution_count": null,
   "metadata": {
    "collapsed": false
   },
   "outputs": [],
   "source": [
    "'Hello, world !'"
   ]
  },
  {
   "cell_type": "code",
   "execution_count": null,
   "metadata": {
    "collapsed": false
   },
   "outputs": [],
   "source": [
    "hello = 'Hello world'\n",
    "hello"
   ]
  },
  {
   "cell_type": "code",
   "execution_count": null,
   "metadata": {
    "collapsed": false
   },
   "outputs": [],
   "source": [
    "hello[0]"
   ]
  },
  {
   "cell_type": "code",
   "execution_count": null,
   "metadata": {
    "collapsed": false
   },
   "outputs": [],
   "source": [
    "bonjour = \"Hello\" + ',' + \"World !\"\n",
    "bonjour"
   ]
  },
  {
   "cell_type": "code",
   "execution_count": null,
   "metadata": {
    "collapsed": true
   },
   "outputs": [],
   "source": [
    "bonjour = \"\""
   ]
  },
  {
   "cell_type": "code",
   "execution_count": null,
   "metadata": {
    "collapsed": false
   },
   "outputs": [],
   "source": [
    "bonjour"
   ]
  },
  {
   "cell_type": "code",
   "execution_count": null,
   "metadata": {
    "collapsed": false
   },
   "outputs": [],
   "source": [
    "#solution \n",
    "a = input(\"Valeur de a :\")\n",
    "b = input(\"Valeur de b :\")\n",
    "c = (a**2 - b**(1/2.))\n",
    "print \"a² - √b : \",c \n",
    "print 'type :',type(c)"
   ]
  },
  {
   "cell_type": "code",
   "execution_count": null,
   "metadata": {
    "collapsed": false
   },
   "outputs": [],
   "source": [
    "a = 3\n",
    "a +=1\n",
    "b,c = 5,7\n",
    "print 'a :',a,'\\nb :',b,'\\nc :',c"
   ]
  },
  {
   "cell_type": "code",
   "execution_count": null,
   "metadata": {
    "collapsed": false
   },
   "outputs": [],
   "source": [
    "a = 1\n",
    "print \"a vaut \", a ,'salut',b\n"
   ]
  },
  {
   "cell_type": "code",
   "execution_count": null,
   "metadata": {
    "collapsed": false
   },
   "outputs": [],
   "source": [
    "ma_liste = []   #initialisation d'une liste vide\n",
    "nb_premiers = [2,3,5,7,11]  #liste de 5 élements int\n",
    "l_mixte = [\"hello\",1, [3],(3,2)]\n",
    "\n",
    "print \"ma liste\", ma_liste,type(ma_liste)\n",
    "print \"nb_premiers\", nb_premiers ,type(nb_premiers)\n",
    "print \"l_mixte\", l_mixte ,type(l_mixte), '\\n'\n",
    "\n",
    "for i in l_mixte :\n",
    "    print i, type(i)\n"
   ]
  },
  {
   "cell_type": "code",
   "execution_count": null,
   "metadata": {
    "collapsed": false,
    "scrolled": true
   },
   "outputs": [],
   "source": [
    "print nb_premiers, \", liste de taille :\", len(l_mixte)"
   ]
  },
  {
   "cell_type": "code",
   "execution_count": null,
   "metadata": {
    "collapsed": false
   },
   "outputs": [],
   "source": [
    "print nb_premiers"
   ]
  },
  {
   "cell_type": "code",
   "execution_count": null,
   "metadata": {
    "collapsed": false
   },
   "outputs": [],
   "source": [
    "nb_premiers = [2, 3, 5, 7, 11, 13, 17, 19, 23, 29, 31, 37, 41, 43, 47, 53, 59, 61, 67, 71, 73, 79, 83, 89]\n",
    "start = 2  #inclus\n",
    "stop = 15  #exclu\n",
    "pas = 2\n",
    "print nb_premiers\n",
    "print 'start', nb_premiers[start]\n",
    "print 'stop', nb_premiers[stop]\n",
    "print nb_premiers[start:stop]\n",
    "print nb_premiers[start:stop:pas]"
   ]
  },
  {
   "cell_type": "code",
   "execution_count": null,
   "metadata": {
    "collapsed": false
   },
   "outputs": [],
   "source": [
    "nb_premiers[-1:4:-1]"
   ]
  },
  {
   "cell_type": "code",
   "execution_count": null,
   "metadata": {
    "collapsed": false
   },
   "outputs": [],
   "source": [
    "nb_premiers[15:]"
   ]
  },
  {
   "cell_type": "code",
   "execution_count": null,
   "metadata": {
    "collapsed": false
   },
   "outputs": [],
   "source": [
    "nb_premiers[:10], len(nb_premiers[:10])"
   ]
  },
  {
   "cell_type": "code",
   "execution_count": null,
   "metadata": {
    "collapsed": false
   },
   "outputs": [],
   "source": [
    "#entier positif de zéro à 10\n",
    "#phrase j'aime les pommes\n",
    "#concaténnez chacun des elements de la phrase à la liste\n",
    "#affichez le douzième élément de la liste\n",
    "#retirez le dernier élément de la liste\n",
    "#insérez l'élément 17 en deuxième position\n",
    "#affichez\n",
    "#triez et afficher à nouveau\n",
    "#afficher l'avant dernier élément\n",
    "#pour finir afficher la liste des éléments du dernier au premier (inclus) avec un pas de 3\n",
    "\n",
    "l = range(11)\n",
    "phrase = \"j'aime les pommes\"\n",
    "l.extend(phrase)\n",
    "print l[11]\n",
    "l.pop()\n",
    "l.insert(1,17)\n",
    "print l\n",
    "l.sort()\n",
    "print l\n",
    "print l[-2]\n",
    "print(l[::-3])"
   ]
  },
  {
   "cell_type": "code",
   "execution_count": null,
   "metadata": {
    "collapsed": false
   },
   "outputs": [],
   "source": [
    "a = l.index(17)\n",
    "b = l.index('m')\n",
    "l[a], l[b] = l[b], l[a]\n",
    "l"
   ]
  },
  {
   "cell_type": "code",
   "execution_count": null,
   "metadata": {
    "collapsed": false
   },
   "outputs": [],
   "source": [
    "print list(enumerate(l))"
   ]
  },
  {
   "cell_type": "code",
   "execution_count": null,
   "metadata": {
    "collapsed": false
   },
   "outputs": [],
   "source": [
    "a=3\n",
    "if a > 0 :\n",
    "    print (\"a est strictement supérieur à 0\")"
   ]
  },
  {
   "cell_type": "code",
   "execution_count": null,
   "metadata": {
    "collapsed": false
   },
   "outputs": [],
   "source": [
    "b=5\n",
    "c = 0\n",
    "if a < b and c== 0:\n",
    "    print \"a est strictement inférieur à b\"\n",
    "\n",
    "elif a > b:\n",
    "    print \"b est strictement inférieur à a\"\n",
    "else:\n",
    "    print \"b est égal à a\""
   ]
  },
  {
   "cell_type": "code",
   "execution_count": null,
   "metadata": {
    "collapsed": false
   },
   "outputs": [],
   "source": [
    "a=3\n",
    "b=5\n",
    "condition1 = a < b\n",
    "condition2 = a > b\n",
    "condition3 = a < 10\n",
    "condition4 = a > 10\n",
    "\n",
    "if condition1, condition3, a == 3 :\n",
    "    print \"a est strictement inférieur à b et a est inférieur à 10 \"\n",
    "if condition2  or condition4 :\n",
    "    print \"b est strictement inférieur à ou a est supérieur à 10\"\n"
   ]
  },
  {
   "cell_type": "code",
   "execution_count": null,
   "metadata": {
    "collapsed": false
   },
   "outputs": [],
   "source": [
    "annee = input(\"annee : \")\n",
    "if (not annee%4 and annee%100) or not anne%400 :\n",
    "    print \"l'année\",annee,\"est bissextile\"\n",
    "else :\n",
    "    print \"l'année\",annee,\"n'est pas bissextile\""
   ]
  },
  {
   "cell_type": "code",
   "execution_count": null,
   "metadata": {
    "collapsed": false
   },
   "outputs": [],
   "source": [
    "if (not 4%4 and i%100):\n",
    "    print \"salkut\""
   ]
  },
  {
   "cell_type": "code",
   "execution_count": null,
   "metadata": {
    "collapsed": false
   },
   "outputs": [],
   "source": [
    "annee_bis=[]\n",
    "liste_annee = ...\n",
    "for i in liste_annee:\n",
    "    if ... :\n",
    "        ...\n",
    "annee_bis"
   ]
  },
  {
   "cell_type": "code",
   "execution_count": null,
   "metadata": {
    "collapsed": false
   },
   "outputs": [],
   "source": [
    "\"Hello\"+\"World\"+str(2)\n"
   ]
  },
  {
   "cell_type": "code",
   "execution_count": 53,
   "metadata": {
    "collapsed": false
   },
   "outputs": [
    {
     "name": "stdout",
     "output_type": "stream",
     "text": [
      "4\n",
      "condition respectée, i = 5\n",
      "6\n",
      "7\n",
      "8\n",
      "9\n",
      "condition respectée, i = 10\n"
     ]
    }
   ],
   "source": [
    "for i in range(4,11) :\n",
    "    if not i%5 and i>0:\n",
    "        print \"condition respectée, i =\",i\n",
    "        continue\n",
    "    print i"
   ]
  },
  {
   "cell_type": "code",
   "execution_count": 44,
   "metadata": {
    "collapsed": false
   },
   "outputs": [
    {
     "data": {
      "text/plain": [
       "[-1, 1, 3, 5, 7]"
      ]
     },
     "execution_count": 44,
     "metadata": {},
     "output_type": "execute_result"
    }
   ],
   "source": [
    "ma_liste = range(-1,9,2) \n",
    "ma_liste"
   ]
  },
  {
   "cell_type": "code",
   "execution_count": 45,
   "metadata": {
    "collapsed": false
   },
   "outputs": [
    {
     "data": {
      "text/plain": [
       "['hello', 1, [3], (3, 2)]"
      ]
     },
     "execution_count": 45,
     "metadata": {},
     "output_type": "execute_result"
    }
   ],
   "source": [
    "l_mixte = [\"hello\",1, [3],(3,2)]\n",
    "l_mixte"
   ]
  },
  {
   "cell_type": "code",
   "execution_count": 16,
   "metadata": {
    "collapsed": false
   },
   "outputs": [
    {
     "data": {
      "text/plain": [
       "[(1, 0), (2, 0), (2, 1), (3, 0), (3, 1), (3, 2), (4, 0), (4, 1), (4, 2), (4, 3), (5, 0), (5, 1), (5, 2), (5, 3), (5, 4), (6, 0), (6, 1), (6, 2), (6, 3), (6, 4), (6, 5), (7, 0), (7, 1), (7, 2), (7, 3), (7, 4), (7, 5), (7, 6), (8, 0), (8, 1), (8, 2), (8, 3), (8, 4), (8, 5), (8, 6), (8, 7), (9, 0), (9, 1), (9, 2), (9, 3), (9, 4), (9, 5), (9, 6), (9, 7), (9, 8), (10, 0), (10, 1), (10, 2), (10, 3), (10, 4), (10, 5), (10, 6), (10, 7), (10, 8), (10, 9)]"
      ]
     },
     "execution_count": 16,
     "metadata": {},
     "output_type": "execute_result"
    }
   ],
   "source": [
    "liste_ij = []\n",
    "for i in range(11):\n",
    "    for j in range(i):\n",
    "        liste_ij.append((i,j))       \n",
    "liste_ij"
   ]
  },
  {
   "cell_type": "code",
   "execution_count": 30,
   "metadata": {
    "collapsed": false
   },
   "outputs": [
    {
     "name": "stdout",
     "output_type": "stream",
     "text": [
      "1\n",
      "2\n",
      "Fizz\n",
      "4\n",
      "Buzz\n",
      "Fizz\n",
      "7\n",
      "8\n",
      "Fizz\n",
      "Buzz\n",
      "11\n",
      "Fizz\n",
      "13\n",
      "14\n",
      "FizzBuzz\n",
      "16\n",
      "17\n",
      "Fizz\n",
      "19\n",
      "Buzz\n",
      "Fizz\n",
      "22\n",
      "23\n",
      "Fizz\n",
      "Buzz\n",
      "26\n",
      "Fizz\n",
      "28\n",
      "29\n",
      "FizzBuzz\n",
      "31\n",
      "32\n",
      "Fizz\n",
      "34\n",
      "Buzz\n",
      "Fizz\n",
      "37\n",
      "38\n",
      "Fizz\n",
      "Buzz\n",
      "41\n",
      "Fizz\n",
      "43\n",
      "44\n",
      "FizzBuzz\n",
      "46\n",
      "47\n",
      "Fizz\n",
      "49\n",
      "Buzz\n",
      "Fizz\n",
      "52\n",
      "53\n",
      "Fizz\n",
      "Buzz\n",
      "56\n",
      "Fizz\n",
      "58\n",
      "59\n",
      "FizzBuzz\n",
      "61\n",
      "62\n",
      "Fizz\n",
      "64\n",
      "Buzz\n",
      "Fizz\n",
      "67\n",
      "68\n",
      "Fizz\n",
      "Buzz\n",
      "71\n",
      "Fizz\n",
      "73\n",
      "74\n",
      "FizzBuzz\n",
      "76\n",
      "77\n",
      "Fizz\n",
      "79\n",
      "Buzz\n",
      "Fizz\n",
      "82\n",
      "83\n",
      "Fizz\n",
      "Buzz\n",
      "86\n",
      "Fizz\n",
      "88\n",
      "89\n",
      "FizzBuzz\n",
      "91\n",
      "92\n",
      "Fizz\n",
      "94\n",
      "Buzz\n",
      "Fizz\n",
      "97\n",
      "98\n",
      "Fizz\n",
      "Buzz\n",
      "101\n",
      "Fizz\n",
      "103\n",
      "104\n",
      "FizzBuzz\n",
      "106\n",
      "107\n",
      "Fizz\n",
      "109\n",
      "Buzz\n",
      "Fizz\n",
      "112\n",
      "113\n",
      "Fizz\n",
      "Buzz\n",
      "116\n",
      "Fizz\n",
      "118\n",
      "119\n",
      "FizzBuzz\n",
      "121\n",
      "122\n",
      "Fizz\n",
      "124\n",
      "Buzz\n",
      "Fizz\n",
      "127\n",
      "128\n",
      "Fizz\n",
      "Buzz\n",
      "131\n",
      "Fizz\n",
      "133\n",
      "134\n",
      "FizzBuzz\n",
      "136\n",
      "137\n",
      "Fizz\n",
      "139\n",
      "Buzz\n",
      "Fizz\n",
      "142\n",
      "143\n",
      "Fizz\n",
      "Buzz\n",
      "146\n",
      "Fizz\n",
      "148\n",
      "149\n",
      "FizzBuzz\n",
      "151\n",
      "152\n",
      "Fizz\n",
      "154\n",
      "Buzz\n",
      "Fizz\n",
      "157\n",
      "158\n",
      "Fizz\n",
      "Buzz\n",
      "161\n",
      "Fizz\n",
      "163\n",
      "164\n",
      "FizzBuzz\n",
      "166\n",
      "167\n",
      "Fizz\n",
      "169\n",
      "Buzz\n",
      "Fizz\n",
      "172\n",
      "173\n",
      "Fizz\n",
      "Buzz\n",
      "176\n",
      "Fizz\n",
      "178\n",
      "179\n",
      "FizzBuzz\n",
      "181\n",
      "182\n",
      "Fizz\n",
      "184\n",
      "Buzz\n",
      "Fizz\n",
      "187\n",
      "188\n",
      "Fizz\n",
      "Buzz\n",
      "191\n",
      "Fizz\n",
      "193\n",
      "194\n",
      "FizzBuzz\n",
      "196\n",
      "197\n",
      "Fizz\n",
      "199\n"
     ]
    }
   ],
   "source": [
    "for i in range(1,200):\n",
    "    chaine =''\n",
    "    if not i%3 :\n",
    "        chaine+=\"Fizz\"\n",
    "    if not i%5 : \n",
    "        chaine+=\"Buzz\"\n",
    "    if i%5 and i%3 :\n",
    "        chaine = str(i)\n",
    "    print chaine"
   ]
  },
  {
   "cell_type": "code",
   "execution_count": 1,
   "metadata": {
    "collapsed": false
   },
   "outputs": [],
   "source": [
    "def affichage() :\n",
    "    print \"Hello, World !\""
   ]
  },
  {
   "cell_type": "code",
   "execution_count": 2,
   "metadata": {
    "collapsed": false
   },
   "outputs": [
    {
     "name": "stdout",
     "output_type": "stream",
     "text": [
      "Hello, World !\n"
     ]
    }
   ],
   "source": [
    "affichage()"
   ]
  },
  {
   "cell_type": "code",
   "execution_count": 39,
   "metadata": {
    "collapsed": false
   },
   "outputs": [
    {
     "data": {
      "text/plain": [
       "720"
      ]
     },
     "execution_count": 39,
     "metadata": {},
     "output_type": "execute_result"
    }
   ],
   "source": [
    "def factorielle(n=6):\n",
    "    p=1\n",
    "    for i in range (1,n+1):\n",
    "        p*=i\n",
    "    return p\n",
    "\n",
    "factorielle()"
   ]
  },
  {
   "cell_type": "code",
   "execution_count": 15,
   "metadata": {
    "collapsed": false
   },
   "outputs": [
    {
     "name": "stdout",
     "output_type": "stream",
     "text": [
      "*\n",
      "**\n",
      "***\n",
      "****\n",
      "*****\n",
      "******\n",
      "*******\n",
      "********\n",
      "*********\n",
      "**********\n"
     ]
    }
   ],
   "source": [
    "def triangle(n):\n",
    "    tri = \"\"\n",
    "    for i in range(n):\n",
    "        tri += \"*\"\n",
    "        print tri\n",
    "\n",
    "triangle(10)"
   ]
  },
  {
   "cell_type": "code",
   "execution_count": 21,
   "metadata": {
    "collapsed": false
   },
   "outputs": [
    {
     "name": "stdout",
     "output_type": "stream",
     "text": [
      "liste random [6, 9, 3, 8, 0, 9, 8, 3, 4, 5, 3, 4, 5, 9, 4, 5, 0, 8, 3, 0]\n",
      "liste finale [6, 9, 8, 9, 8, 4, 5, 4, 5, 9, 4, 5, 8]\n"
     ]
    }
   ],
   "source": [
    "liste_random = np.random.randint(0, high=10, size=20).tolist()\n",
    "liste_finale = []\n",
    "for i in liste_random :\n",
    "    if i > 3 :\n",
    "        liste_finale.append(i)\n",
    "print 'liste random',liste_random\n",
    "print 'liste finale',liste_finale"
   ]
  },
  {
   "cell_type": "code",
   "execution_count": 26,
   "metadata": {
    "collapsed": false
   },
   "outputs": [
    {
     "data": {
      "text/plain": [
       "[6, 9, 8, 9, 8, 4, 5, 4, 5, 9, 4, 5, 8]"
      ]
     },
     "execution_count": 26,
     "metadata": {},
     "output_type": "execute_result"
    }
   ],
   "source": [
    "liste_finale2 = [x for x in liste_random if x>3]\n",
    "liste_finale2"
   ]
  },
  {
   "cell_type": "markdown",
   "metadata": {},
   "source": [
    "### Quicksort"
   ]
  },
  {
   "cell_type": "code",
   "execution_count": 18,
   "metadata": {
    "collapsed": false
   },
   "outputs": [
    {
     "name": "stdout",
     "output_type": "stream",
     "text": [
      "liste random : [73, 58, 64, 28, 41, 71, 87, 46, 57, 72, 96, 73, 58, 22, 66, 0, 76, 28, 70]\n",
      "\n",
      "liste triée : [0, 9, 22, 28, 28, 41, 46, 57, 58, 58, 64, 66, 70, 71, 72, 73, 73, 76, 87, 96]\n"
     ]
    }
   ],
   "source": [
    "import numpy as np\n",
    "\n",
    "def quicksort(l) :\n",
    "    if len(l) <=1 :\n",
    "        return l\n",
    "    else :\n",
    "        pivot = l[-1]\n",
    "        l.pop()\n",
    "        lg=[]\n",
    "        ll=[]\n",
    "        for i in l :\n",
    "            if i <= pivot :\n",
    "                ll.append(i)\n",
    "            else :\n",
    "                lg.append(i)\n",
    "    return quicksort(ll)+[pivot]+quicksort(lg)\n",
    "\n",
    "liste_random = np.random.randint(0, high=100, size=20).tolist()\n",
    "liste_triee = quicksort(liste_random)\n",
    "print \"liste random :\",liste_random\n",
    "print \"\\nliste triée :\",liste_triee   "
   ]
  },
  {
   "cell_type": "markdown",
   "metadata": {},
   "source": [
    "### paramètres fonctions"
   ]
  },
  {
   "cell_type": "code",
   "execution_count": 6,
   "metadata": {
    "collapsed": false
   },
   "outputs": [
    {
     "name": "stdout",
     "output_type": "stream",
     "text": [
      "nom : Dupond\n",
      "prenom : Paul\n",
      "\n",
      "nom : Dupond\n",
      "prenom : Paul\n",
      "informations complementaires : 10 rue des lilas 75001 Paris \n"
     ]
    }
   ],
   "source": [
    "def creer_fiche(nom,prenom, *reste):\n",
    "    chaine = \"nom : \"+nom+\"\\nprenom : \" + prenom\n",
    "    if reste :\n",
    "        chaine +=\"\\ninformations complementaires : \"\n",
    "    for i in reste :\n",
    "        chaine+=i+\" \" \n",
    "    return chaine\n",
    "\n",
    "informations = creer_fiche(\"Dupond\", \"Paul\")\n",
    "print informations +\"\\n\"\n",
    "informations2 = creer_fiche(\"Dupond\", \"Paul\",'10 rue des lilas','75001', \"Paris\")\n",
    "print informations2"
   ]
  },
  {
   "cell_type": "code",
   "execution_count": 53,
   "metadata": {
    "collapsed": false
   },
   "outputs": [
    {
     "name": "stdout",
     "output_type": "stream",
     "text": [
      "nom : Dupond\n",
      "prenom : Paul\n",
      "informations complementaires : 10 rue des lilas 75001 Paris \n"
     ]
    }
   ],
   "source": []
  },
  {
   "cell_type": "code",
   "execution_count": 59,
   "metadata": {
    "collapsed": false
   },
   "outputs": [
    {
     "name": "stdout",
     "output_type": "stream",
     "text": [
      "nom : Dupond\n",
      "prenom : Paul\n",
      "informations complementaires : 10 rue des lilas 75001 Paris \n"
     ]
    }
   ],
   "source": [
    "adresse = [\"10 rue des lilas\", \"75001\", \"Paris\"]\n",
    "informations = creer_fiche(\"Dupond\", \"Paul\", *adresse)\n",
    "print informations"
   ]
  },
  {
   "cell_type": "code",
   "execution_count": 62,
   "metadata": {
    "collapsed": false
   },
   "outputs": [
    {
     "name": "stdout",
     "output_type": "stream",
     "text": [
      "() <type 'tuple'>\n",
      "(2,)\n",
      "(1, 2, 3)\n"
     ]
    }
   ],
   "source": [
    "tuple_vide = ()\n",
    "print tuple_vide, type(tuple_vide)\n",
    "tuple_un_element = (2,)  #attention la virgule est obligatoire pour un unique element\n",
    "print tuple_un_element\n",
    "tuple_mutliples_elements = (1,2,3)\n",
    "print tuple_mutliples_elements"
   ]
  },
  {
   "cell_type": "markdown",
   "metadata": {},
   "source": [
    "### dictionnaires"
   ]
  },
  {
   "cell_type": "code",
   "execution_count": 63,
   "metadata": {
    "collapsed": false
   },
   "outputs": [
    {
     "name": "stdout",
     "output_type": "stream",
     "text": [
      "{} <type 'dict'>\n"
     ]
    }
   ],
   "source": [
    "dico_vide = {}\n",
    "print dico_vide , type(dico_vide)"
   ]
  },
  {
   "cell_type": "code",
   "execution_count": 135,
   "metadata": {
    "collapsed": false
   },
   "outputs": [
    {
     "name": "stdout",
     "output_type": "stream",
     "text": [
      "{'nom2': 'Dubois', 'nom1': 'Dupond', 'prenom2': 'Charles', 'prenom1': 'Paul'}\n"
     ]
    },
    {
     "data": {
      "text/plain": [
       "{'nom2': 'Dubois', 'nom1': 'Dupond', 'prenom2': 'Charles', 'prenom1': 'Paul'}"
      ]
     },
     "execution_count": 135,
     "metadata": {},
     "output_type": "execute_result"
    }
   ],
   "source": [
    "carnet_contact ={\"nom1\" : \"Dupond\", \"prenom1\":\"Paul\", \"nom2\":\"Dubois\", \"prenom2\" : \"Charles\"}\n",
    "print carnet_contact\n",
    "#del carnet_contact[\"nom2\"]\n",
    "#del carnet_contact[\"prenom2\"]\n",
    "carnet_contact"
   ]
  },
  {
   "cell_type": "code",
   "execution_count": 123,
   "metadata": {
    "collapsed": false
   },
   "outputs": [
    {
     "data": {
      "text/plain": [
       "{'nom2': 'Dubois', 'nom3': 'Martin', 'nom1': 'Dupond', 'prenom2': 'Charles', 'prenom3': 'Pierre', 'prenom1': 'Paul'}"
      ]
     },
     "execution_count": 123,
     "metadata": {},
     "output_type": "execute_result"
    }
   ],
   "source": [
    "carnet_contact[\"nom3\"] =  \"Martin\"\n",
    "carnet_contact[\"prenom3\"] = \"Pierre\"\n",
    "carnet_contact"
   ]
  },
  {
   "cell_type": "code",
   "execution_count": 140,
   "metadata": {
    "collapsed": false
   },
   "outputs": [
    {
     "name": "stdout",
     "output_type": "stream",
     "text": [
      "{'nom2': 'Dubois', 'nom1': 'Dupond', 'prenom2': 'Charles', 'prenom1': 'Paul'}\n",
      "nom2 Dubois\n",
      "nom1 Dupond\n",
      "prenom2 Charles\n",
      "prenom1 Paul\n"
     ]
    }
   ],
   "source": [
    "print carnet_contact\n",
    "for i,j in carnet_contact.items():\n",
    "    print i,j"
   ]
  },
  {
   "cell_type": "code",
   "execution_count": 121,
   "metadata": {
    "collapsed": false
   },
   "outputs": [
    {
     "data": {
      "text/plain": [
       "dict_items([('un', 1), ('trois', 3), ('deux', 2)])"
      ]
     },
     "execution_count": 121,
     "metadata": {},
     "output_type": "execute_result"
    }
   ],
   "source": [
    "dico = {\"un\" : 1, \"deux\":2, \"trois\": 3}\n",
    "dico.viewitems()"
   ]
  },
  {
   "cell_type": "markdown",
   "metadata": {},
   "source": [
    "### copies de variable en python !!!"
   ]
  },
  {
   "cell_type": "code",
   "execution_count": 76,
   "metadata": {
    "collapsed": false
   },
   "outputs": [
    {
     "name": "stdout",
     "output_type": "stream",
     "text": [
      "[0, 1, 2]\n",
      "[0, 1, 2, 3]\n"
     ]
    }
   ],
   "source": [
    "liste1 = [0,1,2]\n",
    "liste2 = liste1\n",
    "print liste2\n",
    "liste1.append(3)\n",
    "print liste2"
   ]
  },
  {
   "cell_type": "code",
   "execution_count": 82,
   "metadata": {
    "collapsed": false
   },
   "outputs": [],
   "source": [
    "liste1 = [0,1,2]\n",
    "liste2 = list(liste1) #technique 1\n",
    "liste3 = liste1[:]    #technique 2"
   ]
  },
  {
   "cell_type": "code",
   "execution_count": 227,
   "metadata": {
    "collapsed": true
   },
   "outputs": [],
   "source": []
  },
  {
   "cell_type": "code",
   "execution_count": 228,
   "metadata": {
    "collapsed": false
   },
   "outputs": [],
   "source": [
    "dico_note = {\"lloyd\":lloyd, \"alice\":alice, 'tyler': tyler}"
   ]
  },
  {
   "cell_type": "code",
   "execution_count": 246,
   "metadata": {
    "collapsed": false
   },
   "outputs": [
    {
     "name": "stdout",
     "output_type": "stream",
     "text": [
      "carol 65.7\n",
      "bob 81.7\n",
      "alice 91.9\n"
     ]
    }
   ],
   "source": [
    "bob = {\n",
    "  \"nom\": \"Bob\",\n",
    "  \"devoir\": [90.0,97.0,75.0,92.0],\n",
    "  \"qcm\": [88.0,40.0,94.0],\n",
    "  \"exam\": [75.0,90.0]\n",
    "}\n",
    "alice = {\n",
    "  \"prenom\": \"Alice\",\n",
    "  \"devoirs\": [100.0, 92.0, 98.0, 100.0],\n",
    "  \"qcm\": [82.0, 83.0, 91.0],\n",
    "  \"exam\": [89.0, 97.0]\n",
    "}\n",
    "tyler = {\n",
    "  \"prenom\": \"Carol\",\n",
    "  \"devoir\": [0.0, 87.0, 75.0, 22.0],\n",
    "  \"qcm\": [0.0, 75.0, 78.0],\n",
    "  \"exam\": [100.0, 100.0]\n",
    "}\n",
    "\n",
    "dico_note = {\"bob\" :lloyd, \"alice\":alice, 'carol' : tyler}\n",
    "\n",
    "#moyenne des 3\n",
    "for i, j in dico_note.items() :\n",
    "    for j in dico_note[i].keys():\n",
    "        if type(dico_note[i][j]) is list :\n",
    "            dico_note[i]['moyenne_'+j] = np.mean(dico_note[i][j])\n",
    "            \n",
    "for i in dico_note.keys() :\n",
    "    dico_note[i]['moyenne_generale'] = 0\n",
    "    for j in dico_note[i].keys() :\n",
    "        if j.startswith('moy') and j != \"moyenne_generale\" :\n",
    "            dico_note[i]['moyenne_generale'] += dico_note[i][j]\n",
    "    dico_note[i]['moyenne_generale'] = float(\"{0:.1f}\".format(dico_note[i][\"moyenne_generale\"]/3))\n",
    "for i in dico_note.keys() :\n",
    "    print i, dico_note[i][\"moyenne_generale\"]"
   ]
  },
  {
   "cell_type": "code",
   "execution_count": 248,
   "metadata": {
    "collapsed": false
   },
   "outputs": [
    {
     "data": {
      "text/plain": [
       "[0, 1, 2, 3, 4, 5, 6, 7, 8, 9]"
      ]
     },
     "execution_count": 248,
     "metadata": {},
     "output_type": "execute_result"
    }
   ],
   "source": [
    "l=range(10)\n",
    "l"
   ]
  },
  {
   "cell_type": "code",
   "execution_count": 249,
   "metadata": {
    "collapsed": false
   },
   "outputs": [
    {
     "name": "stdout",
     "output_type": "stream",
     "text": [
      "0 0\n",
      "1 1\n",
      "2 2\n",
      "3 3\n",
      "4 4\n",
      "5 5\n",
      "6 6\n",
      "7 7\n",
      "8 8\n",
      "9 9\n"
     ]
    }
   ],
   "source": [
    "for i,item in enumerate(l):\n",
    "    print i,item"
   ]
  },
  {
   "cell_type": "code",
   "execution_count": 3,
   "metadata": {
    "collapsed": false
   },
   "outputs": [
    {
     "name": "stdout",
     "output_type": "stream",
     "text": [
      " a: 5 b: 2\n",
      "a: 3 b:"
     ]
    },
    {
     "ename": "NameError",
     "evalue": "name 'b' is not defined",
     "output_type": "error",
     "traceback": [
      "\u001b[1;31m---------------------------------------------------------------------------\u001b[0m",
      "\u001b[1;31mNameError\u001b[0m                                 Traceback (most recent call last)",
      "\u001b[1;32m<ipython-input-3-6661848deb88>\u001b[0m in \u001b[0;36m<module>\u001b[1;34m()\u001b[0m\n\u001b[0;32m      6\u001b[0m \u001b[1;33m\u001b[0m\u001b[0m\n\u001b[0;32m      7\u001b[0m \u001b[0mmafonction\u001b[0m\u001b[1;33m(\u001b[0m\u001b[0ma\u001b[0m\u001b[1;33m)\u001b[0m\u001b[1;33m\u001b[0m\u001b[0m\n\u001b[1;32m----> 8\u001b[1;33m \u001b[1;32mprint\u001b[0m \u001b[1;34m\"a:\"\u001b[0m\u001b[1;33m,\u001b[0m\u001b[0ma\u001b[0m\u001b[1;33m,\u001b[0m\u001b[1;34m\"b:\"\u001b[0m\u001b[1;33m,\u001b[0m \u001b[0mb\u001b[0m\u001b[1;33m\u001b[0m\u001b[0m\n\u001b[0m",
      "\u001b[1;31mNameError\u001b[0m: name 'b' is not defined"
     ]
    }
   ],
   "source": [
    "a = 3\n",
    "def mafonction(a):\n",
    "    b=2\n",
    "    a += b\n",
    "    print \"a:\",a,\"b:\",b\n",
    "    \n",
    "mafonction(a)\n",
    "print \"a:\",a,\"b:\", b"
   ]
  },
  {
   "cell_type": "code",
   "execution_count": 7,
   "metadata": {
    "collapsed": true
   },
   "outputs": [],
   "source": [
    "import math"
   ]
  },
  {
   "cell_type": "code",
   "execution_count": 20,
   "metadata": {
    "collapsed": true
   },
   "outputs": [],
   "source": [
    "import math as m"
   ]
  },
  {
   "cell_type": "code",
   "execution_count": 21,
   "metadata": {
    "collapsed": false
   },
   "outputs": [
    {
     "name": "stdout",
     "output_type": "stream",
     "text": [
      "1.0\n",
      "1.0\n"
     ]
    }
   ],
   "source": [
    "print math.cos(-2*math.pi)\n",
    "print m.cos(2*math.pi)"
   ]
  },
  {
   "cell_type": "code",
   "execution_count": 15,
   "metadata": {
    "collapsed": false
   },
   "outputs": [
    {
     "name": "stdout",
     "output_type": "stream",
     "text": [
      "['__doc__', '__name__', '__package__', 'acos', 'acosh', 'asin', 'asinh', 'atan', 'atan2', 'atanh', 'ceil', 'copysign', 'cos', 'cosh', 'degrees', 'e', 'erf', 'erfc', 'exp', 'expm1', 'fabs', 'factorial', 'floor', 'fmod', 'frexp', 'fsum', 'gamma', 'hypot', 'isinf', 'isnan', 'ldexp', 'lgamma', 'log', 'log10', 'log1p', 'modf', 'pi', 'pow', 'radians', 'sin', 'sinh', 'sqrt', 'tan', 'tanh', 'trunc']\n"
     ]
    }
   ],
   "source": [
    "print dir(math)"
   ]
  },
  {
   "cell_type": "code",
   "execution_count": 22,
   "metadata": {
    "collapsed": false
   },
   "outputs": [
    {
     "ename": "ImportError",
     "evalue": "No module named xgboost",
     "output_type": "error",
     "traceback": [
      "\u001b[1;31m---------------------------------------------------------------------------\u001b[0m",
      "\u001b[1;31mImportError\u001b[0m                               Traceback (most recent call last)",
      "\u001b[1;32m<ipython-input-22-afdaff4619ce>\u001b[0m in \u001b[0;36m<module>\u001b[1;34m()\u001b[0m\n\u001b[1;32m----> 1\u001b[1;33m \u001b[1;32mimport\u001b[0m \u001b[0mxgboost\u001b[0m\u001b[1;33m\u001b[0m\u001b[0m\n\u001b[0m",
      "\u001b[1;31mImportError\u001b[0m: No module named xgboost"
     ]
    }
   ],
   "source": [
    "import xgboost"
   ]
  },
  {
   "cell_type": "code",
   "execution_count": 24,
   "metadata": {
    "collapsed": false
   },
   "outputs": [
    {
     "data": {
      "text/plain": [
       "[1, True]"
      ]
     },
     "execution_count": 24,
     "metadata": {},
     "output_type": "execute_result"
    }
   ],
   "source": [
    "l = [1, 0, None, [], True]\n",
    "l = [a for a in l if a ]\n",
    "l"
   ]
  },
  {
   "cell_type": "code",
   "execution_count": 31,
   "metadata": {
    "collapsed": false
   },
   "outputs": [
    {
     "data": {
      "text/plain": [
       "[0, 4, 16, 36, 64]"
      ]
     },
     "execution_count": 31,
     "metadata": {},
     "output_type": "execute_result"
    }
   ],
   "source": [
    "l =[a**2 for a in range(10) if a%2 == 0]\n",
    "l"
   ]
  },
  {
   "cell_type": "code",
   "execution_count": 29,
   "metadata": {
    "collapsed": false,
    "slideshow": {
     "slide_type": "-"
    }
   },
   "outputs": [
    {
     "data": {
      "text/plain": [
       "[0, 1, 4, 9, 16, 25, 36, 49, 64, 81]"
      ]
     },
     "execution_count": 29,
     "metadata": {},
     "output_type": "execute_result"
    }
   ],
   "source": [
    "l=[]\n",
    "for i in range(10) :\n",
    "    a = i**2\n",
    "    l.append(a)\n",
    "l"
   ]
  },
  {
   "cell_type": "code",
   "execution_count": 7,
   "metadata": {
    "collapsed": false
   },
   "outputs": [
    {
     "data": {
      "text/plain": [
       "[[0, 1, 2], [3, 4, 5], [6, 7, 8]]"
      ]
     },
     "execution_count": 7,
     "metadata": {},
     "output_type": "execute_result"
    }
   ],
   "source": [
    "matrix = [[1, 2, 3], [4, 5, 6], [7, 8, 9]]\n",
    "[[el - 1 for el in row] for row in matrix]"
   ]
  },
  {
   "cell_type": "code",
   "execution_count": 9,
   "metadata": {
    "collapsed": false
   },
   "outputs": [
    {
     "ename": "ValueError",
     "evalue": "param ne peut etre egal qu'a 1, 2 ou 3",
     "output_type": "error",
     "traceback": [
      "\u001b[1;31m---------------------------------------------------------------------------\u001b[0m",
      "\u001b[1;31mValueError\u001b[0m                                Traceback (most recent call last)",
      "\u001b[1;32m<ipython-input-9-caa2109e516e>\u001b[0m in \u001b[0;36m<module>\u001b[1;34m()\u001b[0m\n\u001b[0;32m      4\u001b[0m     \u001b[1;32melse\u001b[0m \u001b[1;33m:\u001b[0m\u001b[1;33m\u001b[0m\u001b[0m\n\u001b[0;32m      5\u001b[0m         \u001b[1;32mprint\u001b[0m \u001b[0mparam\u001b[0m\u001b[1;33m\u001b[0m\u001b[0m\n\u001b[1;32m----> 6\u001b[1;33m \u001b[0mfonction_avec_exception\u001b[0m\u001b[1;33m(\u001b[0m\u001b[1;36m4\u001b[0m\u001b[1;33m)\u001b[0m\u001b[1;33m\u001b[0m\u001b[0m\n\u001b[0m",
      "\u001b[1;32m<ipython-input-9-caa2109e516e>\u001b[0m in \u001b[0;36mfonction_avec_exception\u001b[1;34m(param)\u001b[0m\n\u001b[0;32m      1\u001b[0m \u001b[1;32mdef\u001b[0m \u001b[0mfonction_avec_exception\u001b[0m\u001b[1;33m(\u001b[0m\u001b[0mparam\u001b[0m\u001b[1;33m)\u001b[0m\u001b[1;33m:\u001b[0m\u001b[1;33m\u001b[0m\u001b[0m\n\u001b[0;32m      2\u001b[0m     \u001b[1;32mif\u001b[0m \u001b[0mparam\u001b[0m \u001b[1;32mnot\u001b[0m \u001b[1;32min\u001b[0m \u001b[1;33m(\u001b[0m\u001b[1;36m1\u001b[0m\u001b[1;33m,\u001b[0m \u001b[1;36m2\u001b[0m\u001b[1;33m,\u001b[0m \u001b[1;36m3\u001b[0m\u001b[1;33m)\u001b[0m\u001b[1;33m:\u001b[0m\u001b[1;33m\u001b[0m\u001b[0m\n\u001b[1;32m----> 3\u001b[1;33m         \u001b[1;32mraise\u001b[0m \u001b[0mValueError\u001b[0m\u001b[1;33m(\u001b[0m\u001b[1;34m\"param ne peut etre egal qu'a 1, 2 ou 3\"\u001b[0m\u001b[1;33m)\u001b[0m\u001b[1;33m\u001b[0m\u001b[0m\n\u001b[0m\u001b[0;32m      4\u001b[0m     \u001b[1;32melse\u001b[0m \u001b[1;33m:\u001b[0m\u001b[1;33m\u001b[0m\u001b[0m\n\u001b[0;32m      5\u001b[0m         \u001b[1;32mprint\u001b[0m \u001b[0mparam\u001b[0m\u001b[1;33m\u001b[0m\u001b[0m\n",
      "\u001b[1;31mValueError\u001b[0m: param ne peut etre egal qu'a 1, 2 ou 3"
     ]
    }
   ],
   "source": [
    "def fonction_avec_exception(param):\n",
    "    if param not in (1, 2, 3):\n",
    "        raise ValueError(\"param ne peut etre egal qu'a 1, 2 ou 3\")\n",
    "    else :\n",
    "        print param\n",
    "fonction_avec_exception(4)"
   ]
  },
  {
   "cell_type": "code",
   "execution_count": 27,
   "metadata": {
    "collapsed": false
   },
   "outputs": [
    {
     "name": "stdout",
     "output_type": "stream",
     "text": [
      "i doit être un entier\n"
     ]
    }
   ],
   "source": [
    "i=\"c\"\n",
    "l = [\"a\",\"b\",\"c\"]\n",
    "try:\n",
    "    resultat = l[i]\n",
    "except IndexError :\n",
    "    print \"i est trop grand !\"\n",
    "    resultat = None\n",
    "except NameError :\n",
    "    print \"o n'est pas définit\"\n",
    "    resultat = None\n",
    "except TypeError :\n",
    "    print \"i doit être un entier\"\n",
    "    resultat = None"
   ]
  },
  {
   "cell_type": "code",
   "execution_count": 16,
   "metadata": {
    "collapsed": false,
    "scrolled": true
   },
   "outputs": [
    {
     "ename": "NameError",
     "evalue": "name 'o' is not defined",
     "output_type": "error",
     "traceback": [
      "\u001b[1;31m---------------------------------------------------------------------------\u001b[0m",
      "\u001b[1;31mNameError\u001b[0m                                 Traceback (most recent call last)",
      "\u001b[1;32m<ipython-input-16-1aef9ab15408>\u001b[0m in \u001b[0;36m<module>\u001b[1;34m()\u001b[0m\n\u001b[0;32m      2\u001b[0m \u001b[0mpersonnages\u001b[0m \u001b[1;33m=\u001b[0m \u001b[1;33m[\u001b[0m\u001b[1;34m'iron'\u001b[0m\u001b[1;33m,\u001b[0m \u001b[1;34m'super'\u001b[0m\u001b[1;33m,\u001b[0m \u001b[1;34m'bat'\u001b[0m\u001b[1;33m,\u001b[0m \u001b[1;34m'clepto'\u001b[0m\u001b[1;33m]\u001b[0m\u001b[1;33m\u001b[0m\u001b[0m\n\u001b[0;32m      3\u001b[0m \u001b[1;32mtry\u001b[0m\u001b[1;33m:\u001b[0m\u001b[1;33m\u001b[0m\u001b[0m\n\u001b[1;32m----> 4\u001b[1;33m     \u001b[0mresultat\u001b[0m \u001b[1;33m=\u001b[0m \u001b[0mpersonnages\u001b[0m\u001b[1;33m[\u001b[0m\u001b[0mo\u001b[0m\u001b[1;33m]\u001b[0m\u001b[1;33m\u001b[0m\u001b[0m\n\u001b[0m\u001b[0;32m      5\u001b[0m \u001b[1;31m# i est plus grand que la taille du tableau\u001b[0m\u001b[1;33m\u001b[0m\u001b[1;33m\u001b[0m\u001b[0m\n\u001b[0;32m      6\u001b[0m \u001b[1;32mexcept\u001b[0m \u001b[0mIndexError\u001b[0m\u001b[1;33m:\u001b[0m\u001b[1;33m\u001b[0m\u001b[0m\n",
      "\u001b[1;31mNameError\u001b[0m: name 'o' is not defined"
     ]
    }
   ],
   "source": [
    "\n",
    "personnages = ['iron', 'super', 'bat', 'clepto']\n",
    "try:\n",
    "    resultat = personnages[i]\n",
    "# i est plus grand que la taille du tableau\n",
    "except:\n",
    "    print \"unexpected indent\"\n",
    "    resultat = None\n",
    "        "
   ]
  },
  {
   "cell_type": "code",
   "execution_count": 15,
   "metadata": {
    "collapsed": false
   },
   "outputs": [
    {
     "name": "stdout",
     "output_type": "stream",
     "text": [
      "numerateur : 7 \n",
      "denominateur : 8\n",
      "0.875\n",
      "0.88\n"
     ]
    }
   ],
   "source": [
    "try:\n",
    "    numerateur = float(input(\"numerateur : \"))\n",
    "    denominateur = float(input(\"denominateur : \"))\n",
    "    division = numerateur*1.0/denominateur\n",
    "    arrondi = round(division,2)\n",
    "    print division\n",
    "    print arrondi\n",
    "except (ValueError, NameError, SyntaxError) :\n",
    "    print 'le numérateur et le dénominateur doivent être des flottants'\n",
    "except ZeroDivisionError :\n",
    "    print 'le dénominateur ne doit pas être nul'"
   ]
  },
  {
   "cell_type": "code",
   "execution_count": 18,
   "metadata": {
    "collapsed": false
   },
   "outputs": [
    {
     "data": {
      "text/plain": [
       "[(0.0127, 0.739], (-0.675, 0.0127], (0.0127, 0.739], (0.0127, 0.739], (-0.675, 0.0127], ..., (0.0127, 0.739], (0.739, 3.568], (0.739, 3.568], (0.0127, 0.739], (-0.675, 0.0127]]\n",
       "Length: 1000\n",
       "Categories (4, object): [[-3.401, -0.675] < (-0.675, 0.0127] < (0.0127, 0.739] < (0.739, 3.568]]"
      ]
     },
     "execution_count": 18,
     "metadata": {},
     "output_type": "execute_result"
    }
   ],
   "source": [
    "data= np.random.randn(1000)\n",
    "cut = pd.qcut(data,4)\n",
    "cut"
   ]
  },
  {
   "cell_type": "code",
   "execution_count": 20,
   "metadata": {
    "collapsed": false
   },
   "outputs": [
    {
     "name": "stdout",
     "output_type": "stream",
     "text": [
      "Help on built-in function id in module __builtin__:\n",
      "\n",
      "id(...)\n",
      "    id(object) -> integer\n",
      "    \n",
      "    Return the identity of an object.  This is guaranteed to be unique among\n",
      "    simultaneously existing objects.  (Hint: it's the object's memory address.)\n",
      "\n"
     ]
    }
   ],
   "source": [
    "help(id)"
   ]
  },
  {
   "cell_type": "code",
   "execution_count": 109,
   "metadata": {
    "collapsed": false
   },
   "outputs": [
    {
     "data": {
      "text/plain": [
       "(3L, 8L)"
      ]
     },
     "execution_count": 109,
     "metadata": {},
     "output_type": "execute_result"
    }
   ],
   "source": [
    "y=np.array([[ 0.,  0.,  0.,  0.,  0.,  0.,  0.,  0.],\n",
    "       [ 0.,  0.,  0.,  0.,  0.,  0.,  0.,  0.],\n",
    "       [ 0.,  0.,  0.,  0.,  0.,  0.,  0.,  0.]])\n",
    "y.shape"
   ]
  },
  {
   "cell_type": "code",
   "execution_count": 45,
   "metadata": {
    "collapsed": false
   },
   "outputs": [
    {
     "data": {
      "text/plain": [
       "array([0, 8, 1, 2])"
      ]
     },
     "execution_count": 45,
     "metadata": {},
     "output_type": "execute_result"
    }
   ],
   "source": [
    "np.insert(a, 1,8)"
   ]
  },
  {
   "cell_type": "code",
   "execution_count": 50,
   "metadata": {
    "collapsed": false
   },
   "outputs": [
    {
     "data": {
      "text/plain": [
       "array([5, 7, 9])"
      ]
     },
     "execution_count": 50,
     "metadata": {},
     "output_type": "execute_result"
    }
   ],
   "source": [
    "np.add(a,[5,6,7])"
   ]
  },
  {
   "cell_type": "code",
   "execution_count": 147,
   "metadata": {
    "collapsed": false
   },
   "outputs": [
    {
     "name": "stdout",
     "output_type": "stream",
     "text": [
      "(2L, 2L) (3L, 1L) (3L, 1L)\n",
      "[[1 2]\n",
      " [3 4]]\n",
      "[[1]\n",
      " [2]\n",
      " [3]]\n",
      "[[1]\n",
      " [2]\n",
      " [3]]\n"
     ]
    },
    {
     "data": {
      "text/plain": [
       "array([[[1, 2, 3, 4]]])"
      ]
     },
     "execution_count": 147,
     "metadata": {},
     "output_type": "execute_result"
    }
   ],
   "source": [
    "a = np.array([[1,2],[3,4]])\n",
    "b = np.array([1,2,3])\n",
    "c = b = np.array([[1],[2],[3]])\n",
    "print a.shape, b.shape, c.shape\n",
    "print a\n",
    "print b\n",
    "print c\n",
    "a.reshape(1,1,4)"
   ]
  },
  {
   "cell_type": "code",
   "execution_count": 150,
   "metadata": {
    "collapsed": false
   },
   "outputs": [
    {
     "data": {
      "text/plain": [
       "array([[0, 1, 2],\n",
       "       [3, 4, 5],\n",
       "       [6, 7, 8]])"
      ]
     },
     "execution_count": 150,
     "metadata": {},
     "output_type": "execute_result"
    }
   ],
   "source": [
    "b = np.arange(9)\n",
    "b.reshape(3,3)"
   ]
  },
  {
   "cell_type": "code",
   "execution_count": null,
   "metadata": {
    "collapsed": true
   },
   "outputs": [],
   "source": []
  }
 ],
 "metadata": {
  "kernelspec": {
   "display_name": "Python 2",
   "language": "python",
   "name": "python2"
  },
  "language_info": {
   "codemirror_mode": {
    "name": "ipython",
    "version": 2
   },
   "file_extension": ".py",
   "mimetype": "text/x-python",
   "name": "python",
   "nbconvert_exporter": "python",
   "pygments_lexer": "ipython2",
   "version": "2.7.11"
  }
 },
 "nbformat": 4,
 "nbformat_minor": 0
}
