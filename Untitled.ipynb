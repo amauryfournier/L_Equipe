{
 "cells": [
  {
   "cell_type": "markdown",
   "metadata": {},
   "source": [
    "# bonjour"
   ]
  },
  {
   "cell_type": "code",
   "execution_count": 1,
   "metadata": {
    "collapsed": true
   },
   "outputs": [],
   "source": [
    "#bonjour"
   ]
  },
  {
   "cell_type": "code",
   "execution_count": 2,
   "metadata": {
    "collapsed": false
   },
   "outputs": [
    {
     "name": "stdout",
     "output_type": "stream",
     "text": [
      "Collecting ggplot\n",
      "  Downloading ggplot-0.9.3.tar.gz (1.9MB)\n",
      "    Complete output from command python setup.py egg_info:\n",
      "    Traceback (most recent call last):\n",
      "      File \"<string>\", line 1, in <module>\n",
      "      File \"c:\\users\\amaury\\appdata\\local\\temp\\pip-build-gcbcyq\\ggplot\\setup.py\", line 3, in <module>\n",
      "        from ggplot.__init__ import __version__\n",
      "      File \"c:\\users\\amaury\\appdata\\local\\temp\\pip-build-gcbcyq\\ggplot\\ggplot\\__init__.py\", line 34, in <module>\n",
      "        from .scales.scale_color_brewer import scale_color_brewer\n",
      "      File \"c:\\users\\amaury\\appdata\\local\\temp\\pip-build-gcbcyq\\ggplot\\ggplot\\scales\\scale_color_brewer.py\", line 5, in <module>\n",
      "        import brewer2mpl\n",
      "    ImportError: No module named brewer2mpl\n",
      "    \n",
      "    ----------------------------------------\n"
     ]
    },
    {
     "name": "stderr",
     "output_type": "stream",
     "text": [
      "Command \"python setup.py egg_info\" failed with error code 1 in c:\\users\\amaury\\appdata\\local\\temp\\pip-build-gcbcyq\\ggplot\\\n"
     ]
    }
   ],
   "source": [
    "! pip install ggplot"
   ]
  },
  {
   "cell_type": "code",
   "execution_count": null,
   "metadata": {
    "collapsed": true
   },
   "outputs": [],
   "source": []
  }
 ],
 "metadata": {
  "kernelspec": {
   "display_name": "Python 2",
   "language": "python",
   "name": "python2"
  },
  "language_info": {
   "codemirror_mode": {
    "name": "ipython",
    "version": 2
   },
   "file_extension": ".py",
   "mimetype": "text/x-python",
   "name": "python",
   "nbconvert_exporter": "python",
   "pygments_lexer": "ipython2",
   "version": "2.7.11"
  }
 },
 "nbformat": 4,
 "nbformat_minor": 0
}
