{
 "cells": [
  {
   "cell_type": "markdown",
   "metadata": {},
   "source": [
    "# Formation python\n",
    "<br/>\n",
    "## Velvet Consulting"
   ]
  },
  {
   "cell_type": "code",
   "execution_count": 8,
   "metadata": {
    "collapsed": false
   },
   "outputs": [
    {
     "name": "stdout",
     "output_type": "stream",
     "text": [
      "Pretty printing has been turned OFF\n"
     ]
    }
   ],
   "source": [
    "#pour un meilleur affichage, à n'executer qu'une seule fois\n",
    "%pprint"
   ]
  },
  {
   "cell_type": "markdown",
   "metadata": {},
   "source": [
    "### Types, variables"
   ]
  },
  {
   "cell_type": "code",
   "execution_count": null,
   "metadata": {
    "collapsed": true
   },
   "outputs": [],
   "source": [
    "#Indications :\n",
    "#Pour demander à l’utilisateur une saisie utilisez « input »\n",
    "\n",
    "a =\n",
    "b = \n",
    "c = "
   ]
  },
  {
   "cell_type": "markdown",
   "metadata": {},
   "source": [
    "### Listes"
   ]
  },
  {
   "cell_type": "code",
   "execution_count": null,
   "metadata": {
    "collapsed": true
   },
   "outputs": [],
   "source": [
    "l = \n",
    "phrase = "
   ]
  },
  {
   "cell_type": "markdown",
   "metadata": {},
   "source": [
    "#### Bonus"
   ]
  },
  {
   "cell_type": "code",
   "execution_count": null,
   "metadata": {
    "collapsed": true
   },
   "outputs": [],
   "source": [
    "e1 = l.index(17)\n",
    "e2 = l.index('m')"
   ]
  },
  {
   "cell_type": "markdown",
   "metadata": {},
   "source": [
    "### Structures conditionnelles"
   ]
  },
  {
   "cell_type": "code",
   "execution_count": null,
   "metadata": {
    "collapsed": true
   },
   "outputs": [],
   "source": [
    "annee = "
   ]
  },
  {
   "cell_type": "markdown",
   "metadata": {},
   "source": [
    "### Les boucles"
   ]
  },
  {
   "cell_type": "markdown",
   "metadata": {},
   "source": [
    "#### Boucle while"
   ]
  },
  {
   "cell_type": "code",
   "execution_count": null,
   "metadata": {
    "collapsed": false
   },
   "outputs": [],
   "source": [
    "annee_bis=[]\n",
    "liste_annee = \n",
    "for "
   ]
  },
  {
   "cell_type": "markdown",
   "metadata": {},
   "source": [
    "#### FizzBuzz"
   ]
  },
  {
   "cell_type": "code",
   "execution_count": null,
   "metadata": {
    "collapsed": true
   },
   "outputs": [],
   "source": []
  },
  {
   "cell_type": "markdown",
   "metadata": {},
   "source": [
    "#### Fizzbuzz 2"
   ]
  },
  {
   "cell_type": "code",
   "execution_count": null,
   "metadata": {
    "collapsed": true
   },
   "outputs": [],
   "source": []
  },
  {
   "cell_type": "markdown",
   "metadata": {},
   "source": [
    "### Dictionnaires"
   ]
  },
  {
   "cell_type": "code",
   "execution_count": 9,
   "metadata": {
    "collapsed": true
   },
   "outputs": [],
   "source": [
    "import numpy as np"
   ]
  },
  {
   "cell_type": "markdown",
   "metadata": {},
   "source": [
    "#### dico élèves"
   ]
  },
  {
   "cell_type": "code",
   "execution_count": null,
   "metadata": {
    "collapsed": true
   },
   "outputs": [],
   "source": [
    "bob = {\n",
    "  \"nom\": \"Bob\",\n",
    "  \"devoir\": [90.0,97.0,75.0,92.0],\n",
    "  \"qcm\": [88.0,40.0,94.0],\n",
    "  \"exam\": [75.0,90.0]\n",
    "}\n",
    "alice = {\n",
    "  \"prenom\": \"Alice\",\n",
    "  \"devoirs\": [100.0, 92.0, 98.0, 100.0],\n",
    "  \"qcm\": [82.0, 83.0, 91.0],\n",
    "  \"exam\": [89.0, 97.0]\n",
    "}\n",
    "carol = {\n",
    "  \"prenom\": \"Carol\",\n",
    "  \"devoir\": [0.0, 87.0, 75.0, 22.0],\n",
    "  \"qcm\": [0.0, 75.0, 78.0],\n",
    "  \"exam\": [100.0, 100.0]\n",
    "}"
   ]
  },
  {
   "cell_type": "code",
   "execution_count": 4,
   "metadata": {
    "collapsed": false
   },
   "outputs": [],
   "source": [
    "#Indications :  \n",
    "\n",
    "#pour savoir si un objet est une liste on peut faire :\n",
    "#if type(objet) is list :\n",
    "\n",
    "#pour calculer la moyenne des éléments d'une liste on peut utiliser la librairie numpy que j'ai importée pour vous :\n",
    "#moyenne = np.mean(liste)\n",
    "\n",
    "#pour savoir si un objet de type string commence par \"bonjour\" on peut faire :\n",
    "#if objet.startswith(\"bonjour\")\n",
    "\n",
    "#pour tronquer un flottant à une décimale :\n",
    "#float(\"{0:.1f}\".format(nombre))"
   ]
  },
  {
   "cell_type": "markdown",
   "metadata": {},
   "source": [
    "### Les fonctions"
   ]
  },
  {
   "cell_type": "markdown",
   "metadata": {},
   "source": [
    "#### triangle"
   ]
  },
  {
   "cell_type": "code",
   "execution_count": null,
   "metadata": {
    "collapsed": true
   },
   "outputs": [],
   "source": []
  },
  {
   "cell_type": "markdown",
   "metadata": {},
   "source": [
    "#### Quicksort"
   ]
  },
  {
   "cell_type": "code",
   "execution_count": null,
   "metadata": {
    "collapsed": true
   },
   "outputs": [],
   "source": []
  },
  {
   "cell_type": "code",
   "execution_count": null,
   "metadata": {
    "collapsed": true
   },
   "outputs": [],
   "source": [
    "liste_random = np.random.randint(0, high=100, size=20).tolist()\n",
    "liste_triee = quicksort(liste_random)\n",
    "print \"liste random :\",liste_random\n",
    "print \"\\nliste triée :\",liste_triee  "
   ]
  },
  {
   "cell_type": "markdown",
   "metadata": {
    "collapsed": true
   },
   "source": [
    "### Les exceptions"
   ]
  },
  {
   "cell_type": "code",
   "execution_count": null,
   "metadata": {
    "collapsed": true
   },
   "outputs": [],
   "source": [
    "def division() :\n",
    "    try :\n",
    "        numerateur = float(input(\"numerateur : \"))\n",
    "        denominateur = float(input(\"denominateur : \"))\n",
    "        division = numerateur*1.0/denominateur\n",
    "        arrondi = round(division,2)\n",
    "        ...\n",
    "    except ... :\n",
    "        ...\n",
    "        return\n",
    "    \n",
    "division()"
   ]
  }
 ],
 "metadata": {
  "kernelspec": {
   "display_name": "Python 2",
   "language": "python",
   "name": "python2"
  },
  "language_info": {
   "codemirror_mode": {
    "name": "ipython",
    "version": 2
   },
   "file_extension": ".py",
   "mimetype": "text/x-python",
   "name": "python",
   "nbconvert_exporter": "python",
   "pygments_lexer": "ipython2",
   "version": "2.7.11"
  }
 },
 "nbformat": 4,
 "nbformat_minor": 0
}
