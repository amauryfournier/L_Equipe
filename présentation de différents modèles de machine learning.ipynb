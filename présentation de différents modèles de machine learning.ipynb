{
 "cells": [
  {
   "cell_type": "markdown",
   "metadata": {},
   "source": [
    "## Modèles de machine learning\n",
    "\n",
    "### Amaury Fournier"
   ]
  },
  {
   "cell_type": "code",
   "execution_count": 2,
   "metadata": {
    "collapsed": true
   },
   "outputs": [],
   "source": [
    "from sklearn import datasets\n",
    "from sklearn.datasets.mldata import fetch_mldata\n",
    "from sklearn.naive_bayes import GaussianNB\n",
    "from sklearn.ensemble import GradientBoostingClassifier\n",
    "from sklearn import cross_validation\n",
    "from sklearn.svm import SVC\n",
    "import numpy as np"
   ]
  },
  {
   "cell_type": "markdown",
   "metadata": {},
   "source": [
    "### Chargement de deux jeux de donées"
   ]
  },
  {
   "cell_type": "code",
   "execution_count": 3,
   "metadata": {
    "collapsed": false
   },
   "outputs": [
    {
     "name": "stdout",
     "output_type": "stream",
     "text": [
      "dataset Iris :\n",
      "taille du dataset : 150\n",
      "nombre de features : 4\n",
      "nombre de labels : 3\n",
      "--------------------\n",
      "dataset breast_cancer :\n",
      "taille du dataset : 569\n",
      "nombre de features : 30\n",
      "nombre de labels : 2\n"
     ]
    }
   ],
   "source": [
    "iris = datasets.load_iris()\n",
    "breast_cancer = datasets.load_breast_cancer()\n",
    "\n",
    "print \"dataset Iris :\"\n",
    "print \"taille du dataset :\", iris.data.shape[0]\n",
    "print \"nombre de features :\", iris.data.shape[1]\n",
    "print \"nombre de labels :\", np.unique(iris.target).size\n",
    "\n",
    "\n",
    "print(\"--------------------\")\n",
    "print \"dataset breast_cancer :\"\n",
    "print \"taille du dataset :\", breast_cancer.data.shape[0]\n",
    "print \"nombre de features :\", breast_cancer.data.shape[1]\n",
    "print \"nombre de labels :\", np.unique(breast_cancer.target).size"
   ]
  },
  {
   "cell_type": "markdown",
   "metadata": {},
   "source": [
    "### Naive Bayes"
   ]
  },
  {
   "cell_type": "code",
   "execution_count": 4,
   "metadata": {
    "collapsed": false
   },
   "outputs": [
    {
     "name": "stdout",
     "output_type": "stream",
     "text": [
      "pour le dataset Iris avec le modèle naive Bayes \n",
      "performance en cross-validation (5 folds) :\n",
      "[0.93333333333333335, 0.96666666666666667, 0.96666666666666667, 0.96666666666666667, 0.96666666666666667]\n",
      "performance moyenne :  0.96\n"
     ]
    }
   ],
   "source": [
    "kf = cross_validation.KFold(n=iris.data.shape[0], n_folds=5, shuffle=True)\n",
    "tmp_acc=[]\n",
    "for train, test in kf:\n",
    "    Xtrain, Xtest, ytrain, ytest = iris.data[train], iris.data[test], iris.target[train], iris.target[test]\n",
    "    gnb = GaussianNB()\n",
    "    y_pred = gnb.fit(Xtrain,ytrain)\n",
    "    pred = gnb.predict(Xtest)\n",
    "    tmp_acc.append(np.sum(ytest == pred)*1. / Xtest.shape[0])\n",
    "    \n",
    "acc = np.mean(tmp_acc)\n",
    "\n",
    "print 'pour le dataset Iris avec le modèle naive Bayes '\n",
    "print \"nombre d'exemples :\", iris.data.shape[0]\n",
    "print \"nombre de features :\", iris.data.shape[1]\n",
    "print \"performance en cross-validation (5 folds) :\"\n",
    "print tmp_acc \n",
    "print \"performance moyenne : \", acc"
   ]
  },
  {
   "cell_type": "code",
   "execution_count": 5,
   "metadata": {
    "collapsed": false
   },
   "outputs": [
    {
     "name": "stdout",
     "output_type": "stream",
     "text": [
      "pour le dataset breast_cancer avec le modèle naive Bayes \n",
      "performance en cross-validation (5 folds) : [0.92982456140350878, 0.94736842105263153, 0.93859649122807021, 0.95614035087719296, 0.92920353982300885]\n",
      "performance moyenne :  0.940226672877\n"
     ]
    }
   ],
   "source": [
    "#avec le dataset breast_cancer\n",
    "\n",
    "kf = cross_validation.KFold(n=breast_cancer.data.shape[0], n_folds=5, shuffle=True)\n",
    "tmp_acc=[]\n",
    "for train, test in kf:\n",
    "    Xtrain, Xtest, ytrain, ytest = breast_cancer.data[train], breast_cancer.data[test], breast_cancer.target[train], breast_cancer.target[test]\n",
    "    gnb = GaussianNB()\n",
    "    y_pred = gnb.fit(Xtrain,ytrain)\n",
    "    pred = gnb.predict(Xtest)\n",
    "    tmp_acc.append(np.sum(ytest == pred)*1. / Xtest.shape[0])\n",
    "    \n",
    "acc = np.mean(tmp_acc)\n",
    "\n",
    "print 'pour le dataset breast_cancer avec le modèle naive Bayes '\n",
    "#print \"nombre d'exemples :\", breast_cancer.data.shape[0]\n",
    "#print \"nombre de features :\", breast_cancer.data.shape[1]\n",
    "print \"performance en cross-validation (5 folds) :\", tmp_acc \n",
    "print \"performance moyenne : \", acc"
   ]
  },
  {
   "cell_type": "markdown",
   "metadata": {},
   "source": [
    "### Gradient boosting"
   ]
  },
  {
   "cell_type": "code",
   "execution_count": 6,
   "metadata": {
    "collapsed": false
   },
   "outputs": [
    {
     "name": "stdout",
     "output_type": "stream",
     "text": [
      "pour le dataset Iris avec le modèle Gradient Boosting \n",
      "performance en cross-validation (5 folds) : [0.90000000000000002, 1.0, 0.96666666666666667, 0.93333333333333335, 0.96666666666666667]\n",
      "performance moyenne :  0.953333333333\n"
     ]
    }
   ],
   "source": [
    "kf = cross_validation.KFold(n=iris.data.shape[0], n_folds=5, shuffle=True)\n",
    "tmp_acc=[]\n",
    "for train, test in kf:\n",
    "    Xtrain, Xtest, ytrain, ytest = iris.data[train], iris.data[test], iris.target[train], iris.target[test]\n",
    "    gboost = GradientBoostingClassifier(n_estimators=200, max_depth=4)\n",
    "    y_pred = gboost.fit(Xtrain,ytrain)\n",
    "    pred = gboost.predict(Xtest)\n",
    "    tmp_acc.append(np.sum(ytest == pred)*1. / Xtest.shape[0])\n",
    "    \n",
    "acc = np.mean(tmp_acc)\n",
    "\n",
    "print 'pour le dataset Iris avec le modèle Gradient Boosting '\n",
    "#print \"nombre d'exemples :\", iris.data.shape[0]\n",
    "#print \"nombre de features :\", iris.data.shape[1]\n",
    "print \"performance en cross-validation (5 folds) :\", tmp_acc \n",
    "print \"performance moyenne : \", acc"
   ]
  },
  {
   "cell_type": "code",
   "execution_count": 7,
   "metadata": {
    "collapsed": false
   },
   "outputs": [
    {
     "name": "stdout",
     "output_type": "stream",
     "text": [
      "pour le dataset breast_cancer avec le modèle Gradient Boosting \n",
      "performance en cross-validation (5 folds) : [0.97368421052631582, 0.96491228070175439, 0.94736842105263153, 0.98245614035087714, 0.96460176991150437]\n",
      "performance moyenne :  0.966604564509\n"
     ]
    }
   ],
   "source": [
    "#avec le dataset breast_cancer\n",
    "\n",
    "kf = cross_validation.KFold(n=breast_cancer.data.shape[0], n_folds=5, shuffle=True)\n",
    "tmp_acc=[]\n",
    "for train, test in kf:\n",
    "    Xtrain, Xtest, ytrain, ytest = breast_cancer.data[train], breast_cancer.data[test], breast_cancer.target[train], breast_cancer.target[test]\n",
    "    gboost = GradientBoostingClassifier(n_estimators=300, max_features=12)\n",
    "    y_pred = gboost.fit(Xtrain,ytrain)\n",
    "    pred = gboost.predict(Xtest)\n",
    "    tmp_acc.append(np.sum(ytest == pred)*1. / Xtest.shape[0])\n",
    "    \n",
    "acc = np.mean(tmp_acc)\n",
    "\n",
    "print 'pour le dataset breast_cancer avec le modèle Gradient Boosting '\n",
    "#print \"nombre d'exemples :\", breast_cancer.data.shape[0]\n",
    "#print \"nombre de features :\", breast_cancer.data.shape[1]\n",
    "print \"performance en cross-validation (5 folds) :\", tmp_acc \n",
    "print \"performance moyenne : \", acc"
   ]
  },
  {
   "cell_type": "markdown",
   "metadata": {},
   "source": [
    "### SVM"
   ]
  },
  {
   "cell_type": "code",
   "execution_count": 8,
   "metadata": {
    "collapsed": false
   },
   "outputs": [
    {
     "name": "stdout",
     "output_type": "stream",
     "text": [
      "pour le dataset Iris avec le modèle SVM \n",
      "performance en cross-validation (5 folds) : [1.0, 0.93333333333333335, 0.96666666666666667, 0.96666666666666667, 0.96666666666666667]\n",
      "performance moyenne :  0.966666666667\n"
     ]
    }
   ],
   "source": [
    "kf = cross_validation.KFold(n=iris.data.shape[0], n_folds=5, shuffle=True)\n",
    "tmp_acc=[]\n",
    "for train, test in kf:\n",
    "    Xtrain, Xtest, ytrain, ytest = iris.data[train], iris.data[test], iris.target[train], iris.target[test]\n",
    "    svm = SVC(kernel='linear', decision_function_shape='ovr')\n",
    "    y_pred = svm.fit(Xtrain,ytrain)\n",
    "    pred = svm.predict(Xtest)\n",
    "    tmp_acc.append(np.sum(ytest == pred)*1. / Xtest.shape[0])\n",
    "    \n",
    "acc = np.mean(tmp_acc)\n",
    "\n",
    "print 'pour le dataset Iris avec le modèle SVM '\n",
    "#print \"nombre d'exemples :\", iris.data.shape[0]\n",
    "#print \"nombre de features :\", iris.data.shape[1]\n",
    "print \"performance en cross-validation (5 folds) :\", tmp_acc \n",
    "print \"performance moyenne : \", acc"
   ]
  },
  {
   "cell_type": "code",
   "execution_count": 9,
   "metadata": {
    "collapsed": false
   },
   "outputs": [
    {
     "name": "stdout",
     "output_type": "stream",
     "text": [
      "pour le dataset breast_cancer avec le modèle SVM \n",
      "performance en cross-validation (5 folds) : [0.99122807017543857, 0.96491228070175439, 0.96491228070175439, 0.95614035087719296, 0.90265486725663713]\n",
      "performance moyenne :  0.955969569943\n"
     ]
    }
   ],
   "source": [
    "#avec le dataset breast_cancer\n",
    "\n",
    "kf = cross_validation.KFold(n=breast_cancer.data.shape[0], n_folds=5, shuffle=True)\n",
    "tmp_acc=[]\n",
    "for train, test in kf:\n",
    "    Xtrain, Xtest, ytrain, ytest = breast_cancer.data[train], breast_cancer.data[test], breast_cancer.target[train], breast_cancer.target[test]\n",
    "    svm = SVC(kernel='linear', decision_function_shape=\"ovo\")\n",
    "    y_pred = svm.fit(Xtrain,ytrain)\n",
    "    pred = svm.predict(Xtest)\n",
    "    tmp_acc.append(np.sum(ytest == pred)*1. / Xtest.shape[0])\n",
    "    \n",
    "acc = np.mean(tmp_acc)\n",
    "\n",
    "print 'pour le dataset breast_cancer avec le modèle SVM '\n",
    "#print \"nombre d'exemples :\", breast_cancer.data.shape[0]\n",
    "#print \"nombre de features :\", breast_cancer.data.shape[1]\n",
    "print \"performance en cross-validation (5 folds) :\", tmp_acc \n",
    "print \"performance moyenne : \", acc"
   ]
  },
  {
   "cell_type": "code",
   "execution_count": null,
   "metadata": {
    "collapsed": true
   },
   "outputs": [],
   "source": []
  }
 ],
 "metadata": {
  "kernelspec": {
   "display_name": "Python 2",
   "language": "python",
   "name": "python2"
  },
  "language_info": {
   "codemirror_mode": {
    "name": "ipython",
    "version": 2
   },
   "file_extension": ".py",
   "mimetype": "text/x-python",
   "name": "python",
   "nbconvert_exporter": "python",
   "pygments_lexer": "ipython2",
   "version": "2.7.11"
  }
 },
 "nbformat": 4,
 "nbformat_minor": 0
}
