{
 "cells": [
  {
   "cell_type": "markdown",
   "metadata": {},
   "source": [
    "# Formation python\n",
    "<br/>\n",
    "## Velvet Consulting"
   ]
  },
  {
   "cell_type": "code",
   "execution_count": 7,
   "metadata": {
    "collapsed": false
   },
   "outputs": [
    {
     "name": "stdout",
     "output_type": "stream",
     "text": [
      "Pretty printing has been turned OFF\n"
     ]
    }
   ],
   "source": [
    "#pour un meilleur affichage, à n'executer qu'une seule fois\n",
    "%pprint"
   ]
  },
  {
   "cell_type": "markdown",
   "metadata": {},
   "source": [
    "### Types, variables "
   ]
  },
  {
   "cell_type": "code",
   "execution_count": null,
   "metadata": {
    "collapsed": false
   },
   "outputs": [],
   "source": [
    "a = input(\"Valeur de a :\")\n",
    "b = input(\"Valeur de b :\")\n",
    "c = (a**2 - b**(1/2.))\n",
    "print \"a² - √b : \",c \n",
    "print 'type :',type(c)"
   ]
  },
  {
   "cell_type": "markdown",
   "metadata": {},
   "source": [
    "### Listes"
   ]
  },
  {
   "cell_type": "code",
   "execution_count": null,
   "metadata": {
    "collapsed": false
   },
   "outputs": [],
   "source": [
    "#entier positif de zéro à 10\n",
    "#phrase j'aime les pommes\n",
    "#concaténnez chacun des elements de la phrase à la liste\n",
    "#affichez le douzième élément de la liste\n",
    "#retirez le dernier élément de la liste\n",
    "#insérez l'élément 17 en deuxième position\n",
    "#affichez\n",
    "#triez et afficher à nouveau\n",
    "#afficher l'avant dernier élément\n",
    "#pour finir afficher la liste des éléments du dernier au premier (inclus) avec un pas de 3\n",
    "\n",
    "l = range(11)\n",
    "phrase = \"j'aime les pommes\"\n",
    "l.extend(phrase)\n",
    "print l[11]\n",
    "l.pop()\n",
    "l.insert(1,17)\n",
    "print l\n",
    "l.sort()\n",
    "print l\n",
    "print l[-2]\n",
    "print(l[::-3])"
   ]
  },
  {
   "cell_type": "markdown",
   "metadata": {},
   "source": [
    "#### Bonus"
   ]
  },
  {
   "cell_type": "code",
   "execution_count": null,
   "metadata": {
    "collapsed": false
   },
   "outputs": [],
   "source": [
    "a = l.index(17)\n",
    "b = l.index('m')\n",
    "l[a], l[b] = l[b], l[a]\n",
    "l"
   ]
  },
  {
   "cell_type": "markdown",
   "metadata": {},
   "source": [
    "### Structures conditionnelles"
   ]
  },
  {
   "cell_type": "code",
   "execution_count": null,
   "metadata": {
    "collapsed": false
   },
   "outputs": [],
   "source": [
    "annee = input(\"annee : \")\n",
    "if (not annee%4 and annee%100) or not annee%400 :\n",
    "    print \"l'année\",annee,\"est bissextile\"\n",
    "else :\n",
    "    print \"l'année\",annee,\"n'est pas bissextile\""
   ]
  },
  {
   "cell_type": "markdown",
   "metadata": {},
   "source": [
    "### Les boucles"
   ]
  },
  {
   "cell_type": "markdown",
   "metadata": {},
   "source": [
    "#### Boucle while"
   ]
  },
  {
   "cell_type": "code",
   "execution_count": 22,
   "metadata": {
    "collapsed": false
   },
   "outputs": [
    {
     "name": "stdout",
     "output_type": "stream",
     "text": [
      "0\n",
      "1\n",
      "2\n",
      "3\n"
     ]
    }
   ],
   "source": [
    "i=0\n",
    "while (i<=3):\n",
    "    print i\n",
    "    i+=1"
   ]
  },
  {
   "cell_type": "markdown",
   "metadata": {},
   "source": [
    "#### Années bissextiles"
   ]
  },
  {
   "cell_type": "code",
   "execution_count": 20,
   "metadata": {
    "collapsed": false
   },
   "outputs": [
    {
     "data": {
      "text/plain": [
       "[0, 4, 8, 12, 16, 20, 24, 28, 32, 36, 40, 44, 48, 52, 56, 60, 64, 68, 72, 76, 80, 84, 88, 92, 96, 104, 108, 112, 116, 120, 124, 128, 132, 136, 140, 144, 148, 152, 156, 160, 164, 168, 172, 176, 180, 184, 188, 192, 196]"
      ]
     },
     "execution_count": 20,
     "metadata": {},
     "output_type": "execute_result"
    }
   ],
   "source": [
    "annee_bis=[]\n",
    "liste_annee = range(200)\n",
    "for i in liste_annee :\n",
    "    if (not i%4 and i%100) or not i%400 :\n",
    "        annee_bis.append(i)\n",
    "annee_bis"
   ]
  },
  {
   "cell_type": "markdown",
   "metadata": {},
   "source": [
    "#### FizzBuzz"
   ]
  },
  {
   "cell_type": "code",
   "execution_count": 13,
   "metadata": {
    "collapsed": false
   },
   "outputs": [
    {
     "name": "stdout",
     "output_type": "stream",
     "text": [
      "1\n",
      "2\n",
      "Fizz\n",
      "4\n",
      "Buzz\n",
      "Fizz\n",
      "7\n",
      "8\n",
      "Fizz\n",
      "Buzz\n",
      "11\n",
      "Fizz\n",
      "13\n",
      "14\n",
      "FizzBuzz\n",
      "16\n",
      "17\n",
      "Fizz\n",
      "19\n"
     ]
    }
   ],
   "source": [
    "for i in range(1,20):\n",
    "    chaine =''\n",
    "    if not i%3 :\n",
    "        chaine+=\"Fizz\"\n",
    "    if not i%5 : \n",
    "        chaine+=\"Buzz\"\n",
    "    if i%5 and i%3 :\n",
    "        chaine = str(i)\n",
    "    print chaine"
   ]
  },
  {
   "cell_type": "markdown",
   "metadata": {},
   "source": [
    "### Fizzbuzz 2"
   ]
  },
  {
   "cell_type": "code",
   "execution_count": 9,
   "metadata": {
    "collapsed": false
   },
   "outputs": [
    {
     "data": {
      "text/plain": [
       "[1, 2, 'Fizz', 4, 'Buzz', 'Fizz', 7, 8, 'Fizz', 'Buzz', 11, 'Fizz', 13, 14, 'FizzBuzz', 16, 17, 'Fizz', 19, 'Buzz', 'Fizz', 22, 23, 'Fizz', 'Buzz', 26, 'Fizz', 28, 29, 'FizzBuzz', 31, 32, 'Fizz', 34, 'Buzz', 'Fizz', 37, 38, 'Fizz', 'Buzz', 41, 'Fizz', 43, 44, 'FizzBuzz', 46, 47, 'Fizz', 49, 'Buzz', 'Fizz', 52, 53, 'Fizz', 'Buzz', 56, 'Fizz', 58, 59, 'FizzBuzz', 61, 62, 'Fizz', 64, 'Buzz', 'Fizz', 67, 68, 'Fizz', 'Buzz', 71, 'Fizz', 73, 74, 'FizzBuzz', 76, 77, 'Fizz', 79, 'Buzz', 'Fizz', 82, 83, 'Fizz', 'Buzz', 86, 'Fizz', 88, 89, 'FizzBuzz', 91, 92, 'Fizz', 94, 'Buzz', 'Fizz', 97, 98, 'Fizz', 'Buzz']"
      ]
     },
     "execution_count": 9,
     "metadata": {},
     "output_type": "execute_result"
    }
   ],
   "source": [
    "li = [\"FizzBuzz\" if not el%5 and not el%3 else \"Fizz\"if not el%3 else \"Buzz\" if not el%5 else el for el in range(1,101) ]\n",
    "li"
   ]
  },
  {
   "cell_type": "markdown",
   "metadata": {},
   "source": [
    "### Dictionnaires"
   ]
  },
  {
   "cell_type": "code",
   "execution_count": null,
   "metadata": {
    "collapsed": true
   },
   "outputs": [],
   "source": [
    "import numpy as np"
   ]
  },
  {
   "cell_type": "markdown",
   "metadata": {},
   "source": [
    "#### dico élèves"
   ]
  },
  {
   "cell_type": "code",
   "execution_count": 24,
   "metadata": {
    "collapsed": true
   },
   "outputs": [],
   "source": [
    "bob = {\n",
    "  \"nom\": \"Bob\",\n",
    "  \"devoir\": [90.0,97.0,75.0,92.0],\n",
    "  \"qcm\": [88.0,40.0,94.0],\n",
    "  \"exam\": [75.0,90.0]\n",
    "}\n",
    "alice = {\n",
    "  \"prenom\": \"Alice\",\n",
    "  \"devoirs\": [100.0, 92.0, 98.0, 100.0],\n",
    "  \"qcm\": [82.0, 83.0, 91.0],\n",
    "  \"exam\": [89.0, 97.0]\n",
    "}\n",
    "carol = {\n",
    "  \"prenom\": \"Carol\",\n",
    "  \"devoir\": [0.0, 87.0, 75.0, 22.0],\n",
    "  \"qcm\": [0.0, 75.0, 78.0],\n",
    "  \"exam\": [100.0, 100.0]\n",
    "}"
   ]
  },
  {
   "cell_type": "code",
   "execution_count": 25,
   "metadata": {
    "collapsed": false
   },
   "outputs": [
    {
     "name": "stdout",
     "output_type": "stream",
     "text": [
      "carol 65.7\n",
      "bob 81.7\n",
      "alice 91.9\n"
     ]
    }
   ],
   "source": [
    "#dico général\n",
    "dico_note = {\"bob\" :bob, \"alice\":alice, 'carol' : carol}\n",
    "\n",
    "#moyenne des élèves par type d'épreuves\n",
    "for i, j in dico_note.items() :\n",
    "    for j in dico_note[i].keys():\n",
    "        if type(dico_note[i][j]) is list :\n",
    "            dico_note[i]['moyenne_'+j] = np.mean(dico_note[i][j])\n",
    "            \n",
    "#moyenne générale des élèves\n",
    "for i in dico_note.keys() :\n",
    "    dico_note[i]['moyenne_generale'] = 0\n",
    "    for j in dico_note[i].keys() :\n",
    "        if j.startswith('moy') and j != \"moyenne_generale\" :\n",
    "            dico_note[i]['moyenne_generale'] += dico_note[i][j]\n",
    "    dico_note[i]['moyenne_generale'] = float(\"{0:.1f}\".format(dico_note[i][\"moyenne_generale\"]/3))\n",
    "for i in dico_note.keys() :\n",
    "    print i, dico_note[i][\"moyenne_generale\"]"
   ]
  },
  {
   "cell_type": "markdown",
   "metadata": {},
   "source": [
    "### Les fonctions "
   ]
  },
  {
   "cell_type": "markdown",
   "metadata": {},
   "source": [
    "#### triangle"
   ]
  },
  {
   "cell_type": "code",
   "execution_count": 27,
   "metadata": {
    "collapsed": false
   },
   "outputs": [
    {
     "name": "stdout",
     "output_type": "stream",
     "text": [
      "*\n",
      "**\n",
      "***\n",
      "****\n",
      "*****\n",
      "******\n",
      "*******\n",
      "********\n",
      "*********\n",
      "**********\n"
     ]
    }
   ],
   "source": [
    "def triangle(n):\n",
    "    tri = \"\"\n",
    "    for i in range(n):\n",
    "        tri += \"*\"\n",
    "        print tri\n",
    "\n",
    "triangle(10)"
   ]
  },
  {
   "cell_type": "markdown",
   "metadata": {},
   "source": [
    "#### Quicksort"
   ]
  },
  {
   "cell_type": "code",
   "execution_count": 28,
   "metadata": {
    "collapsed": false
   },
   "outputs": [
    {
     "name": "stdout",
     "output_type": "stream",
     "text": [
      "liste random : [18, 45, 56, 95, 32, 83, 71, 83, 12, 20, 14, 91, 81, 53, 42, 66, 96, 37, 33]\n",
      "\n",
      "liste triée : [12, 14, 18, 20, 32, 33, 37, 40, 42, 45, 53, 56, 66, 71, 81, 83, 83, 91, 95, 96]\n"
     ]
    }
   ],
   "source": [
    "def quicksort(l) :\n",
    "    if len(l) <=1 :\n",
    "        return l\n",
    "    else :\n",
    "        pivot = l[-1]\n",
    "        l.pop()\n",
    "        lg=[]\n",
    "        ll=[]\n",
    "        for i in l :\n",
    "            if i <= pivot :\n",
    "                ll.append(i)\n",
    "            else :\n",
    "                lg.append(i)\n",
    "    return quicksort(ll)+[pivot]+quicksort(lg)\n",
    "\n",
    "liste_random = np.random.randint(0, high=100, size=20).tolist()\n",
    "liste_triee = quicksort(liste_random)\n",
    "print \"liste random :\",liste_random\n",
    "print \"\\nliste triée :\",liste_triee  "
   ]
  },
  {
   "cell_type": "markdown",
   "metadata": {
    "collapsed": true
   },
   "source": [
    "### Les exceptions"
   ]
  },
  {
   "cell_type": "code",
   "execution_count": 16,
   "metadata": {
    "collapsed": false
   },
   "outputs": [
    {
     "name": "stdout",
     "output_type": "stream",
     "text": [
      "numerateur : 14\n",
      "denominateur : 5\n",
      "division : 2.8\n",
      "arrondi : 2.8\n",
      "au revoir !\n"
     ]
    }
   ],
   "source": [
    "def division() :\n",
    "    try:\n",
    "        numerateur = float(input(\"numerateur : \"))\n",
    "        denominateur = float(input(\"denominateur : \"))\n",
    "        division = numerateur*1.0/denominateur\n",
    "        arrondi = round(division,2)\n",
    "        print 'division :', division\n",
    "        print 'arrondi :', arrondi\n",
    "    except (ValueError, NameError, SyntaxError, OverflowError) :\n",
    "        print 'le numérateur et le dénominateur doivent être des flottants'\n",
    "        return \n",
    "    except ZeroDivisionError :\n",
    "        print 'le dénominateur ne doit pas être nul'\n",
    "    finally :\n",
    "        print \"au revoir !\"\n",
    "division()"
   ]
  },
  {
   "cell_type": "code",
   "execution_count": null,
   "metadata": {
    "collapsed": true
   },
   "outputs": [],
   "source": []
  }
 ],
 "metadata": {
  "kernelspec": {
   "display_name": "Python 2",
   "language": "python",
   "name": "python2"
  },
  "language_info": {
   "codemirror_mode": {
    "name": "ipython",
    "version": 2
   },
   "file_extension": ".py",
   "mimetype": "text/x-python",
   "name": "python",
   "nbconvert_exporter": "python",
   "pygments_lexer": "ipython2",
   "version": "2.7.11"
  }
 },
 "nbformat": 4,
 "nbformat_minor": 0
}
